{
 "cells": [
  {
   "cell_type": "markdown",
   "id": "11a286a8-b3b6-471d-9795-4d9c5257a840",
   "metadata": {},
   "source": [
    "# Question-1. Discuss string slicing and provide examples."
   ]
  },
  {
   "cell_type": "raw",
   "id": "12d19b2a-2029-4cc8-b540-f82acbe5143a",
   "metadata": {},
   "source": [
    "String slicing is a powerful feature in Python that allows you to extract a portion of a string and manipulate and analyze parts of a string."
   ]
  },
  {
   "cell_type": "markdown",
   "id": "e3c62322-76bc-466c-b0e4-3adc1df7113a",
   "metadata": {},
   "source": [
    "#### Examples:"
   ]
  },
  {
   "cell_type": "markdown",
   "id": "4f28df80-9dd8-4c19-a545-27d430098868",
   "metadata": {},
   "source": [
    "##### Basic Slicing:\n",
    "Extracting or Substrcting from a string"
   ]
  },
  {
   "cell_type": "code",
   "execution_count": 3,
   "id": "18f517fb-c7d3-404d-afe2-06228a72fefb",
   "metadata": {},
   "outputs": [
    {
     "name": "stdout",
     "output_type": "stream",
     "text": [
      "Hello \n"
     ]
    }
   ],
   "source": [
    "#Example \n",
    "name = \"Hello PWskills\"\n",
    "new_name = name[0:5]\n",
    "print(new_name)"
   ]
  },
  {
   "cell_type": "markdown",
   "id": "a0c5abc1-9939-4d83-9b9e-9972a26cc8a9",
   "metadata": {},
   "source": [
    "##### Substacting:\n",
    "if you subtract the start index slicing start from begining"
   ]
  },
  {
   "cell_type": "code",
   "execution_count": 5,
   "id": "2260b575-8449-47e2-9886-75cffb3328dc",
   "metadata": {},
   "outputs": [
    {
     "name": "stdout",
     "output_type": "stream",
     "text": [
      "Hello\n"
     ]
    }
   ],
   "source": [
    "new_name = name[:5]\n",
    "print(new_name)"
   ]
  },
  {
   "cell_type": "raw",
   "id": "fb887459-c304-4f80-b7ec-20ff2f113f3c",
   "metadata": {},
   "source": [
    "if you also subtract the end index slicing go to end"
   ]
  },
  {
   "cell_type": "code",
   "execution_count": 7,
   "id": "d94a2851-35b5-42cc-a412-bc0e8175242d",
   "metadata": {},
   "outputs": [
    {
     "name": "stdout",
     "output_type": "stream",
     "text": [
      "Hello PWskills\n",
      " PWskills\n"
     ]
    }
   ],
   "source": [
    "#Example\n",
    "new_name = name[0:]\n",
    "new_name_1 = name[5:]\n",
    "print(new_name)\n",
    "print(new_name_1)"
   ]
  },
  {
   "cell_type": "raw",
   "id": "3c9c3fa1-ed08-4398-b3c8-a88a8bc21454",
   "metadata": {},
   "source": [
    "we also skip a charecter from strings and we also pprint a sring in reverse order"
   ]
  },
  {
   "cell_type": "code",
   "execution_count": 11,
   "id": "94e354e0-d3ca-4dbc-8851-33c87d1527b1",
   "metadata": {},
   "outputs": [
    {
     "name": "stdout",
     "output_type": "stream",
     "text": [
      "HloPsil\n",
      "Hello PWskills\n",
      "slliksWP olleH\n"
     ]
    }
   ],
   "source": [
    "#Example\n",
    "new_name = name[0:15:2] \n",
    "new_name_1 = name[::1]\n",
    "new_name_2 = name[::-1]\n",
    "print(new_name)\n",
    "print(new_name_1)\n",
    "print(new_name_2)\n",
    "\n",
    "#String Slicing is a versatile tool that allow you to for a wide range operation on String"
   ]
  },
  {
   "cell_type": "markdown",
   "id": "417da77e-6b73-4056-a01e-4a6a37094f9c",
   "metadata": {},
   "source": [
    "# Question-2. Explain the key features of lists in Python."
   ]
  },
  {
   "cell_type": "raw",
   "id": "66f17781-548d-4078-8216-15827d606698",
   "metadata": {},
   "source": [
    "Lists in Python are a versatile and powerful data structure that allows you to store collection of items.These item can be any data Type."
   ]
  },
  {
   "cell_type": "markdown",
   "id": "e46f4b52-ce5e-49e6-a642-86d4656d5c4b",
   "metadata": {},
   "source": [
    "#### Some Key Features of Lists:"
   ]
  },
  {
   "cell_type": "markdown",
   "id": "400616c3-44f5-456d-a2c2-3836d7ba6240",
   "metadata": {},
   "source": [
    "#### 1. Ordered:\n",
    "Elements in a list are arranged in a specific order and their position can be used to access them."
   ]
  },
  {
   "cell_type": "code",
   "execution_count": 18,
   "id": "514d13b1-f1d4-4352-ac8b-0503cf907612",
   "metadata": {},
   "outputs": [
    {
     "name": "stdout",
     "output_type": "stream",
     "text": [
      "['Ata', 'Rice', 'oil', 'Sugar', 'Suji', 'Masala']\n",
      "Sugar\n"
     ]
    },
    {
     "data": {
      "text/plain": [
       "list"
      ]
     },
     "execution_count": 18,
     "metadata": {},
     "output_type": "execute_result"
    }
   ],
   "source": [
    "#example\n",
    "Grocery = [\"Ata\", \"Rice\",\"oil\",\"Sugar\",\"Suji\",\"Masala\"]\n",
    "print(Grocery)\n",
    "print(Grocery[3])\n",
    "type(Grocery)"
   ]
  },
  {
   "cell_type": "markdown",
   "id": "cea64030-5de4-429f-82f8-17c83ce55688",
   "metadata": {},
   "source": [
    "#### 2. Mutable:\n",
    "Lists are mutable it means you can add,remove and change the element after they created"
   ]
  },
  {
   "cell_type": "code",
   "execution_count": 20,
   "id": "f53589bc-67ac-49d2-b432-3123ed97f0b5",
   "metadata": {},
   "outputs": [
    {
     "name": "stdout",
     "output_type": "stream",
     "text": [
      "Watermelon\n",
      "['Mango', 'Banana', 'Apple', 'Blackberry', 'Grape', 'Cherry']\n"
     ]
    }
   ],
   "source": [
    "#Example of change element in list\n",
    "Fruits = [\"Mango\",\"Banana\",\"Apple\",\"Watermelon\",\"Grape\",\"Cherry\"]\n",
    "print(Fruits[3])\n",
    "Fruits[3] = \"Blackberry\"\n",
    "print(Fruits)"
   ]
  },
  {
   "cell_type": "code",
   "execution_count": 21,
   "id": "50d0420d-5ae1-4cd1-bd06-2f193fa86c16",
   "metadata": {},
   "outputs": [
    {
     "name": "stdout",
     "output_type": "stream",
     "text": [
      "['Mango', 'Banana', 'Apple', 'Blackberry', 'Grape', 'Cherry', 'Blueberry']\n",
      "['Mango', 'Banana', 'Apple', 'Blackberry', 'Grape', 'Blueberry']\n"
     ]
    }
   ],
   "source": [
    "#Example of add element in list\n",
    "Fruits.append(\"Blueberry\")\n",
    "print(Fruits)\n",
    "#Example of remove element in list\n",
    "Fruits.remove(\"Cherry\")\n",
    "print(Fruits)"
   ]
  },
  {
   "cell_type": "markdown",
   "id": "6cbe71a3-b631-4db1-99e6-24f314869863",
   "metadata": {},
   "source": [
    "#### 3.Heterogeneous Elements:\n",
    "List are contain different type of data including other type of list."
   ]
  },
  {
   "cell_type": "code",
   "execution_count": 22,
   "id": "b37a4595-5d87-4bc3-8529-191e871a4684",
   "metadata": {},
   "outputs": [
    {
     "name": "stdout",
     "output_type": "stream",
     "text": [
      "['vegetable', 'Fruits', 12, 25.8, True, ['name', 'age', 'catagory']]\n"
     ]
    }
   ],
   "source": [
    "#Example\n",
    "Mothers_bag = [\"vegetable\",\"Fruits\",12,25.8,True,['name','age','catagory']]\n",
    "print(Mothers_bag)"
   ]
  },
  {
   "cell_type": "markdown",
   "id": "f5c882c8-3e7e-46ce-8c47-931675526a8e",
   "metadata": {},
   "source": [
    "#### 4. Slicing:\n",
    "List are also support slicing"
   ]
  },
  {
   "cell_type": "code",
   "execution_count": 24,
   "id": "a32e7a52-8309-4e2d-a31a-84c8a5c35994",
   "metadata": {},
   "outputs": [
    {
     "name": "stdout",
     "output_type": "stream",
     "text": [
      "['Potato', 'Tomato', 'Brinjal']\n",
      "['Brinjal', 'Carrot', 'Cucumber']\n",
      "['Potato', 'Brinjal', 'Cucumber']\n",
      "['Cucumber', 'Carrot', 'Brinjal', 'Tomato', 'Potato']\n"
     ]
    }
   ],
   "source": [
    "#Example of slicing in a list\n",
    "Vegetables = [\"Potato\",\"Tomato\",\"Brinjal\",\"Carrot\",\"Cucumber\"]\n",
    "print(Vegetables[:3])\n",
    "print(Vegetables[2:5])\n",
    "print(Vegetables[0:5:2])\n",
    "print(Vegetables[::-1])"
   ]
  },
  {
   "cell_type": "markdown",
   "id": "5d94610c-7e27-45ea-b10e-e38fb65a755c",
   "metadata": {},
   "source": [
    "#### 5. List Comprehensions\n",
    "Python gives us a short way to create lists using list comprehensions."
   ]
  },
  {
   "cell_type": "code",
   "execution_count": 26,
   "id": "62e78063-62ea-414a-95f9-77ac212dc455",
   "metadata": {},
   "outputs": [
    {
     "name": "stdout",
     "output_type": "stream",
     "text": [
      "[4, 16, 36, 64, 100]\n"
     ]
    }
   ],
   "source": [
    "#Example of List Comprehensions\n",
    "num = [2,4,6,8,10]\n",
    "Squre_num = []\n",
    "for i in num:\n",
    "    Squre_num.append(i**2)\n",
    "print(Squre_num)"
   ]
  },
  {
   "cell_type": "markdown",
   "id": "3b1c9f1b-eef1-4567-ae92-54a99f9d4b90",
   "metadata": {},
   "source": [
    "#### 6. Nested Comprehension:\n",
    "Lists can contain other lists as elements and we also do nesting comprehension"
   ]
  },
  {
   "cell_type": "code",
   "execution_count": 30,
   "id": "54bf018b-7f57-4d89-b7af-68348ed2f2ad",
   "metadata": {},
   "outputs": [
    {
     "name": "stdout",
     "output_type": "stream",
     "text": [
      "[7, 8, 9]\n",
      "6\n",
      "[[11, 5], [11, 6], [11, 7], [12, 5], [12, 6], [12, 7], [33, 5], [33, 6], [33, 7]]\n"
     ]
    }
   ],
   "source": [
    "#Example\n",
    "My_list = [[1, 2, 3], [4, 5, 6], [7, 8, 9]]\n",
    "print(My_list[2])\n",
    "print(My_list[1][2])\n",
    "\n",
    "#Example of nested list comprehension\n",
    "pairs = []\n",
    "for x in [11, 12, 33]:\n",
    "    for y in [5, 6, 7]:\n",
    "        pairs.append([x, y])\n",
    "print(pairs)"
   ]
  },
  {
   "cell_type": "markdown",
   "id": "917ec655-655c-4284-ab71-49343779dd2e",
   "metadata": {},
   "source": [
    "#### 7. Combining:\n",
    "Lists can be combined using the + operator or the extend() method."
   ]
  },
  {
   "cell_type": "code",
   "execution_count": 31,
   "id": "b165e3bc-9d37-466b-85f4-f375b1d686ca",
   "metadata": {},
   "outputs": [
    {
     "name": "stdout",
     "output_type": "stream",
     "text": [
      "['Mango', 'Banana', 'Apple', 'Watermelon', 'Grape', 'Cherry', 'Potato', 'Tomato', 'Brinjal', 'Carrot', 'Cucumber']\n"
     ]
    }
   ],
   "source": [
    "#Example\n",
    "Fruits = [\"Mango\",\"Banana\",\"Apple\",\"Watermelon\",\"Grape\",\"Cherry\"]\n",
    "Vegetables = [\"Potato\",\"Tomato\",\"Brinjal\",\"Carrot\",\"Cucumber\"]\n",
    "My_List = Fruits + Vegetables\n",
    "print(My_List)"
   ]
  },
  {
   "cell_type": "raw",
   "id": "84830445-8a5e-4d15-bdfc-b92c004d89e6",
   "metadata": {},
   "source": [
    "These are some key feature of Lists."
   ]
  },
  {
   "cell_type": "markdown",
   "id": "3300e192-23e6-4368-b154-a76ab94937cf",
   "metadata": {},
   "source": [
    "# Question-3. Describe how to access , modify and delete elements in a list with examples."
   ]
  },
  {
   "cell_type": "raw",
   "id": "48b4e7c4-54e0-4672-bd9f-62b644d44585",
   "metadata": {},
   "source": [
    "We can access element from a list by its index value. index value in python start with '0' or the value of first element in a list is 0."
   ]
  },
  {
   "cell_type": "markdown",
   "id": "7bfcd2b4-9c68-4838-bd93-767a3ff1b0f5",
   "metadata": {},
   "source": [
    "### 1. Access Elemnet From a List:\n",
    "##### Single element Access:"
   ]
  },
  {
   "cell_type": "code",
   "execution_count": 1,
   "id": "56ffb04f-ce36-41bc-8cea-479e672ee78c",
   "metadata": {},
   "outputs": [
    {
     "name": "stdout",
     "output_type": "stream",
     "text": [
      "Mango\n",
      "Banana\n",
      "Grape\n"
     ]
    }
   ],
   "source": [
    "#Example of single element access\n",
    "Fruits = [\"Mango\",\"Banana\",\"Apple\",\"Watermelon\",\"Grape\",\"Cherry\"]\n",
    "print(Fruits[0])\n",
    "print(Fruits[1])\n",
    "print(Fruits[4])"
   ]
  },
  {
   "cell_type": "markdown",
   "id": "d39c54ce-dbdf-4a0a-b40c-425e2676a17d",
   "metadata": {},
   "source": [
    "##### Negetive Indexing:\n",
    "We also Access element from a list by using negetive index. It allow we to access element from the end of the list."
   ]
  },
  {
   "cell_type": "code",
   "execution_count": 2,
   "id": "8102a6b3-428a-41ca-8b9c-5b2540b645e7",
   "metadata": {},
   "outputs": [
    {
     "name": "stdout",
     "output_type": "stream",
     "text": [
      "Cucumber\n",
      "Brinjal\n",
      "Potato\n"
     ]
    }
   ],
   "source": [
    "#Example of Negetive Indexing\n",
    "Vegetables = [\"Potato\",\"Tomato\",\"Brinjal\",\"Carrot\",\"Cucumber\"]\n",
    "print(Vegetables[-1])\n",
    "print(Vegetables[-3])\n",
    "print(Vegetables[-5])"
   ]
  },
  {
   "cell_type": "markdown",
   "id": "b615b0a6-2e01-41f0-87ef-c308313457dd",
   "metadata": {},
   "source": [
    "##### Slicing:\n",
    "We also access a range of element from a list"
   ]
  },
  {
   "cell_type": "code",
   "execution_count": 3,
   "id": "f03f7fc0-b9ce-4f8b-840a-cc72db6665d3",
   "metadata": {},
   "outputs": [
    {
     "name": "stdout",
     "output_type": "stream",
     "text": [
      "['Ata', 'Rice', 'oil', 'Sugar', 'Suji']\n",
      "['Ata', 'Rice']\n",
      "['Sugar', 'Suji', 'Masala']\n"
     ]
    }
   ],
   "source": [
    "Grocery = [\"Ata\", \"Rice\",\"oil\",\"Sugar\",\"Suji\",\"Masala\"]\n",
    "print(Grocery[0:5])\n",
    "print(Grocery[:2])\n",
    "print(Grocery[3:])"
   ]
  },
  {
   "cell_type": "markdown",
   "id": "cd3d2eb4-86e0-4fed-a607-2d6ce33e32b7",
   "metadata": {},
   "source": [
    "### 2. Modifying Elements in a List:\n",
    "List are mutable it means we can change their element after they are created.\n",
    "##### Modifying Single Element:\n",
    "We can modify an element by assigning a new value to a specific index."
   ]
  },
  {
   "cell_type": "code",
   "execution_count": 4,
   "id": "f441e447-a804-4a1f-952f-3193b9d99a60",
   "metadata": {},
   "outputs": [
    {
     "name": "stdout",
     "output_type": "stream",
     "text": [
      "Brinjal\n",
      "Pumpkin\n"
     ]
    }
   ],
   "source": [
    "#Example\n",
    "Vegetables = [\"Potato\",\"Tomato\",\"Brinjal\",\"Carrot\",\"Cucumber\"]\n",
    "print(Vegetables[2])\n",
    "Vegetables[2] = \"Pumpkin\"\n",
    "print(Vegetables[2])"
   ]
  },
  {
   "cell_type": "markdown",
   "id": "261916bc-04b4-474a-aafa-b772fd577ed7",
   "metadata": {},
   "source": [
    "##### Modify Multiple Elements: \n",
    "We can also modify multiple elements using slicing."
   ]
  },
  {
   "cell_type": "code",
   "execution_count": 5,
   "id": "61de1cbf-3929-4dd9-92af-d9dbb8d78290",
   "metadata": {},
   "outputs": [
    {
     "name": "stdout",
     "output_type": "stream",
     "text": [
      "['peach', 'kiwi', 'Pumpkin', 'Carrot', 'Cucumber']\n"
     ]
    }
   ],
   "source": [
    "Vegetables[0:2] = [\"peach\" , \"kiwi\"]\n",
    "print(Vegetables)"
   ]
  },
  {
   "cell_type": "markdown",
   "id": "d3d8c587-71ed-43fe-8a66-e407b0ccf324",
   "metadata": {},
   "source": [
    "### 3. Deleting Elements in a List:\n",
    "we can remove elements from a list and we can also delete a list."
   ]
  },
  {
   "cell_type": "code",
   "execution_count": 6,
   "id": "661271a2-2013-4cfb-a916-9edb5674c53d",
   "metadata": {},
   "outputs": [
    {
     "name": "stdout",
     "output_type": "stream",
     "text": [
      "['Ata', 'Rice', 'oil', 'Sugar', 'Masala']\n"
     ]
    }
   ],
   "source": [
    "Grocery = [\"Ata\", \"Rice\",\"oil\",\"Sugar\",\"Suji\",\"Masala\"]\n",
    "del Grocery[4]\n",
    "print(Grocery)"
   ]
  },
  {
   "cell_type": "code",
   "execution_count": 7,
   "id": "46e730ad-5cad-41c4-95a6-ec10e7e766ad",
   "metadata": {},
   "outputs": [],
   "source": [
    "# del Grocery\n",
    "# print(Grocery)\n",
    "# if we excute it will through a name error 'Grocery' is not define"
   ]
  },
  {
   "cell_type": "raw",
   "id": "a4c9f8f3-2147-4f1e-88e2-52ed04168b57",
   "metadata": {},
   "source": [
    "We can also use 'remove()' and 'pop()' to extract a item from list."
   ]
  },
  {
   "cell_type": "code",
   "execution_count": 9,
   "id": "eb50493f-c6a9-425c-81c2-b01daaff6b0f",
   "metadata": {},
   "outputs": [
    {
     "name": "stdout",
     "output_type": "stream",
     "text": [
      "['Ata', 'Rice', 'oil', 'Sugar', 'Suji', 'Masala']\n",
      "['Ata', 'Rice', 'oil', 'Sugar', 'Masala']\n"
     ]
    },
    {
     "data": {
      "text/plain": [
       "'Masala'"
      ]
     },
     "execution_count": 9,
     "metadata": {},
     "output_type": "execute_result"
    }
   ],
   "source": [
    "#Example\n",
    "Grocery = [\"Ata\", \"Rice\",\"oil\",\"Sugar\",\"Suji\",\"Masala\"]\n",
    "print(Grocery)\n",
    "Grocery.remove(\"Suji\") #it remove Suji from grocery list\n",
    "print(Grocery)\n",
    "Grocery.pop() # it extract the last value of list Masala"
   ]
  },
  {
   "cell_type": "raw",
   "id": "197386a6-e14b-4e7c-94a3-fbf1e9e7e129",
   "metadata": {},
   "source": [
    "We also use \"clear\" Method for remove all element from list leaving it empty."
   ]
  },
  {
   "cell_type": "code",
   "execution_count": 10,
   "id": "56548e28-09b2-49a0-b7f9-a15b2a625baa",
   "metadata": {},
   "outputs": [
    {
     "name": "stdout",
     "output_type": "stream",
     "text": [
      "['Potato', 'Tomato', 'Brinjal', 'Carrot', 'Cucumber']\n",
      "[]\n"
     ]
    }
   ],
   "source": [
    "#Example\n",
    "Vegetables = [\"Potato\",\"Tomato\",\"Brinjal\",\"Carrot\",\"Cucumber\"]\n",
    "print(Vegetables)\n",
    "Vegetables.clear()\n",
    "print(Vegetables)"
   ]
  },
  {
   "cell_type": "markdown",
   "id": "efa46fbc-40c5-49ba-8fee-43321940df17",
   "metadata": {},
   "source": [
    "# Question-4. Compare and contrast tuples and lists with examples."
   ]
  },
  {
   "cell_type": "raw",
   "id": "73841ae0-dfe0-4e58-b2d1-1d5cb3bc3929",
   "metadata": {},
   "source": [
    "Tuples and Lists are both data type in python they can store collection of item. They also have some key diffrence in terms of mutability,syntax and usages."
   ]
  },
  {
   "cell_type": "markdown",
   "id": "601b6718-f635-4f7a-b72c-c312945ca224",
   "metadata": {},
   "source": [
    "#### 1. Mutability :"
   ]
  },
  {
   "cell_type": "markdown",
   "id": "cae92a58-29d0-4c5e-8319-f13f842acec4",
   "metadata": {},
   "source": [
    "###### Lists:\n",
    "Lists are mutable it means that their elements can be changed, added, or removed after the list is created."
   ]
  },
  {
   "cell_type": "markdown",
   "id": "90e1d0f3-85e3-4bb7-a8a4-cd79669d5e79",
   "metadata": {},
   "source": [
    "###### Tuples:\n",
    "Tuples are immutable it means that once a tuple is created its elements cannot be changed, added, or removed."
   ]
  },
  {
   "cell_type": "code",
   "execution_count": 5,
   "id": "13a73b97-e1ff-4bcf-9783-31c9fdcc9a50",
   "metadata": {},
   "outputs": [
    {
     "name": "stdout",
     "output_type": "stream",
     "text": [
      "['Data science', 'Pwskills', 0.5, '16k', 58]\n",
      "['Gen AI', 'Pwskills', 0.5, '16k', 58]\n"
     ]
    },
    {
     "data": {
      "text/plain": [
       "list"
      ]
     },
     "execution_count": 5,
     "metadata": {},
     "output_type": "execute_result"
    }
   ],
   "source": [
    "#Example of Mutability of Lists\n",
    "my_list = [\"Data science\",\"Pwskills\",0.5, \"16k\",58]\n",
    "print(my_list)\n",
    "my_list [0] = \"Gen AI\"\n",
    "print(my_list)\n",
    "type(my_list)"
   ]
  },
  {
   "cell_type": "code",
   "execution_count": 9,
   "id": "0741d463-9165-4503-ba17-6ab6f51c8b05",
   "metadata": {},
   "outputs": [
    {
     "name": "stdout",
     "output_type": "stream",
     "text": [
      "('pwskills', 25, 14.3, 'data')\n"
     ]
    },
    {
     "data": {
      "text/plain": [
       "tuple"
      ]
     },
     "execution_count": 9,
     "metadata": {},
     "output_type": "execute_result"
    }
   ],
   "source": [
    "#Example of Tuples are Immutable\n",
    "my_tuple = (\"pwskills\", 25, 14.3 , \"data\")\n",
    "# my_tuple [0] = \"Data_science\" \n",
    "# it willl through a TypeError 'tuple'  object does not support item assignment\n",
    "print(my_tuple)\n",
    "type(my_tuple)"
   ]
  },
  {
   "cell_type": "markdown",
   "id": "72c825af-58f3-47df-8767-902f7ab40182",
   "metadata": {},
   "source": [
    "#### 2. Syntax:\n",
    "\n",
    "Lists are define by using square brackets '[]'\n",
    "\n",
    "Tuples are define by using parentheses '()'."
   ]
  },
  {
   "cell_type": "code",
   "execution_count": 13,
   "id": "d71a2b19-9a20-49bf-873f-f86c5fab48d0",
   "metadata": {},
   "outputs": [
    {
     "name": "stdout",
     "output_type": "stream",
     "text": [
      "['Potato', 'Tomato', 'Brinjal', 'Carrot', 'Cucumber']\n"
     ]
    },
    {
     "data": {
      "text/plain": [
       "list"
      ]
     },
     "execution_count": 13,
     "metadata": {},
     "output_type": "execute_result"
    }
   ],
   "source": [
    "# Example of list\n",
    "my_tuple = [\"Potato\",\"Tomato\",\"Brinjal\",\"Carrot\",\"Cucumber\"]\n",
    "print(my_tuple)\n",
    "type(my_tuple)"
   ]
  },
  {
   "cell_type": "code",
   "execution_count": 14,
   "id": "9d2928ad-4dd9-4cbf-8b16-ba12454da404",
   "metadata": {},
   "outputs": [
    {
     "name": "stdout",
     "output_type": "stream",
     "text": [
      "('Ata', 'Rice', 'oil', 'Sugar', 'Suji', 'Masala')\n"
     ]
    },
    {
     "data": {
      "text/plain": [
       "tuple"
      ]
     },
     "execution_count": 14,
     "metadata": {},
     "output_type": "execute_result"
    }
   ],
   "source": [
    "# Example of tuple\n",
    "my_list = (\"Ata\", \"Rice\",\"oil\",\"Sugar\",\"Suji\",\"Masala\")\n",
    "print(my_list)\n",
    "type(my_list)"
   ]
  },
  {
   "cell_type": "markdown",
   "id": "7ea5957d-2681-4d68-b304-803b6d1c5104",
   "metadata": {},
   "source": [
    "#### 3. Use Cases:\n",
    "##### Lists:\n",
    "Lists are used when we need a sequence of items that may need to change over time.\n",
    "##### Tuples:\n",
    "Tuples are used when we have a fixed collection of items that should not change after once they are created."
   ]
  },
  {
   "cell_type": "markdown",
   "id": "145f00d8-a69e-4c98-b93f-746bfe256548",
   "metadata": {},
   "source": [
    "# Question-5. DescrIbe the key Features of sets and provide examples of their use."
   ]
  },
  {
   "cell_type": "markdown",
   "id": "861a0482-287e-4607-9dee-88495f4f3680",
   "metadata": {},
   "source": [
    "### Some Key Feature of set:"
   ]
  },
  {
   "cell_type": "markdown",
   "id": "5dcf452f-1fcf-41f5-b97d-10a866b97baf",
   "metadata": {},
   "source": [
    "#### 1.Unordered Collection:\n",
    "Sets do not maintain any order of elements. This means that the items have no index and cannot be accessed by a specific position."
   ]
  },
  {
   "cell_type": "markdown",
   "id": "d3a3bfd7-8d57-46b7-a40e-ff75dcb9502f",
   "metadata": {},
   "source": [
    "#### 2.Unique Elements:\n",
    "All elements in a set are unique. If you try to add a duplicate element to a set it will be ignored."
   ]
  },
  {
   "cell_type": "markdown",
   "id": "285a8f63-80af-4611-87e8-20e80e656c65",
   "metadata": {},
   "source": [
    "#### 3. Sets Are Mutable:\n",
    "Sets are mutable it means that we can add or remove elements after the set has been created."
   ]
  },
  {
   "cell_type": "markdown",
   "id": "8162751f-5d66-4db0-9b44-1306d5bce646",
   "metadata": {},
   "source": [
    "#### 4. No Duplicates:\n",
    "Sets automatically eliminate duplicate values"
   ]
  },
  {
   "cell_type": "markdown",
   "id": "377978df-765b-4ca6-ad50-3804b12a8380",
   "metadata": {},
   "source": [
    "#### 5.Set Operations:\n",
    "We also do operations in sets like union, intersection, difference, and symmetric difference which are useful for mathematical and logical tasks."
   ]
  },
  {
   "cell_type": "markdown",
   "id": "5aaf98d3-0c8b-4a39-82d3-5ed09d0e1ece",
   "metadata": {},
   "source": [
    "##### Example of Creating a Set:"
   ]
  },
  {
   "cell_type": "code",
   "execution_count": 1,
   "id": "4f375ff3-adf4-4702-8fc0-1f14ae647c4f",
   "metadata": {},
   "outputs": [
    {
     "name": "stdout",
     "output_type": "stream",
     "text": [
      "{'Football', 'Cricket', 'Baseball', 'Hockey', 'Vollyball'}\n"
     ]
    },
    {
     "data": {
      "text/plain": [
       "set"
      ]
     },
     "execution_count": 1,
     "metadata": {},
     "output_type": "execute_result"
    }
   ],
   "source": [
    "#Example of Creating a Set\n",
    "Sports = {\"Cricket\", \"Football\",\"Hockey\",\"Vollyball\",\"Baseball\"}\n",
    "print(Sports)\n",
    "type(Sports)"
   ]
  },
  {
   "cell_type": "markdown",
   "id": "a850328f-7a33-4212-a7dc-734f36e26016",
   "metadata": {},
   "source": [
    "##### Add and Remove Elements in a Sets:"
   ]
  },
  {
   "cell_type": "code",
   "execution_count": 3,
   "id": "28d0f2ca-a8f0-4847-9fcf-3223c88edabd",
   "metadata": {},
   "outputs": [
    {
     "name": "stdout",
     "output_type": "stream",
     "text": [
      "{'Football', 'Cricket', 'Baseball', 'Hockey', 'Vollyball'}\n",
      "{'Football', 'Cricket', 'Rugby', 'Baseball', 'Hockey', 'Vollyball'}\n",
      "{'Football', 'Cricket', 'Rugby', 'Baseball', 'Hockey'}\n"
     ]
    }
   ],
   "source": [
    "#Example of Adding Elements in a Sets\n",
    "Sports = {\"Cricket\", \"Football\",\"Hockey\",\"Vollyball\",\"Baseball\"}\n",
    "print(Sports)\n",
    "Sports.add(\"Rugby\")\n",
    "print(Sports)\n",
    "Sports.remove(\"Vollyball\")\n",
    "print(Sports)"
   ]
  },
  {
   "cell_type": "markdown",
   "id": "9b205ae3-b6e3-4a7d-b452-a3e14440ec79",
   "metadata": {},
   "source": [
    "##### Sets Are Also Eliminate Duplicate Element:"
   ]
  },
  {
   "cell_type": "code",
   "execution_count": 4,
   "id": "71348e3f-28a3-4dcf-8213-5e9796bb0eb4",
   "metadata": {},
   "outputs": [
    {
     "name": "stdout",
     "output_type": "stream",
     "text": [
      "{'Football', 'Cricket', 'Baseball', 'Hockey', 'Vollyball'}\n"
     ]
    }
   ],
   "source": [
    "Sports = {\"Cricket\", \"Football\",\"Hockey\",\"Vollyball\",\"Baseball\",\"Cricket\",\"Hockey\"}\n",
    "print(Sports)"
   ]
  },
  {
   "cell_type": "markdown",
   "id": "99d257e6-945a-4605-b625-a7c79437c780",
   "metadata": {},
   "source": [
    "##### We Also do operation like union, intersection, difference, and symmetric difference in sets:"
   ]
  },
  {
   "cell_type": "code",
   "execution_count": 5,
   "id": "06e3af9b-e949-443b-bedd-076aac6e8ffe",
   "metadata": {},
   "outputs": [
    {
     "name": "stdout",
     "output_type": "stream",
     "text": [
      "{'Football', 'Cricket', 'Baseball', 'Hockey', 'Vollyball'}\n",
      "{'Harmanpreet Singh', 'Sunil Chetri', 'Vinit Choudhary', 'Rinku Singh', 'Ms Dhoni'}\n",
      "{'Harmanpreet Singh', 'Baseball', 'Vollyball', 'Sunil Chetri', 'Cricket', 'Vinit Choudhary', 'Ms Dhoni', 'Hockey', 'Rinku Singh', 'Football'}\n"
     ]
    }
   ],
   "source": [
    "Sports = {\"Cricket\", \"Football\",\"Hockey\",\"Vollyball\",\"Baseball\",\"Cricket\",\"Hockey\"}\n",
    "Players = {\"Ms Dhoni\", \"Sunil Chetri\", \"Harmanpreet Singh\",\"Vinit Choudhary\",\"Rinku Singh\"}\n",
    "print(Sports)\n",
    "print(Players)\n",
    "\n",
    "#Example of Union Operation\n",
    "print(Sports | Players)"
   ]
  },
  {
   "cell_type": "code",
   "execution_count": 7,
   "id": "337bc00a-478c-45bd-83a1-ebab26ff6200",
   "metadata": {},
   "outputs": [
    {
     "name": "stdout",
     "output_type": "stream",
     "text": [
      "{'Cricket', 'Football', 'Baseball'}\n"
     ]
    }
   ],
   "source": [
    "#Example of Intersection Operation\n",
    "\n",
    "Sports = {\"Cricket\", \"Football\",\"Hockey\",\"Vollyball\",\"Baseball\",\"Cricket\",\"Hockey\"}\n",
    "Fav_Sports = {\"Cricket\", \"Baseball\", \"Football\", \"Free Fire\", \"MineCraft\",\"BGMI\"}\n",
    "print( Sports & Fav_Sports)"
   ]
  },
  {
   "cell_type": "code",
   "execution_count": 8,
   "id": "38790b01-1f43-48e3-8bf2-974ae47472cb",
   "metadata": {},
   "outputs": [
    {
     "name": "stdout",
     "output_type": "stream",
     "text": [
      "{'Vollyball', 'Hockey'}\n",
      "{'MineCraft', 'BGMI', 'Free Fire'}\n"
     ]
    }
   ],
   "source": [
    "# Example of Difference Operation\n",
    "print(Sports - Fav_Sports)\n",
    "print(Fav_Sports - Sports)"
   ]
  },
  {
   "cell_type": "code",
   "execution_count": 9,
   "id": "3382f2d4-887b-4033-8753-6bd7a5ebd20c",
   "metadata": {},
   "outputs": [
    {
     "name": "stdout",
     "output_type": "stream",
     "text": [
      "{'Hockey', 'Free Fire', 'MineCraft', 'Vollyball', 'BGMI'}\n",
      "{'Hockey', 'Free Fire', 'MineCraft', 'Vollyball', 'BGMI'}\n"
     ]
    }
   ],
   "source": [
    "#Example of Symmetric Difference operation\n",
    "print(Sports ^ Fav_Sports)\n",
    "print(Fav_Sports ^ Sports)"
   ]
  },
  {
   "cell_type": "markdown",
   "id": "8688668f-2009-495a-8f78-9938e3264901",
   "metadata": {},
   "source": [
    "# Question-6. Discuss the use cases of tuples and sets in Python programming."
   ]
  },
  {
   "cell_type": "raw",
   "id": "4178f6f1-40a3-4a3d-a6af-571db968d464",
   "metadata": {},
   "source": [
    "Tuples and sets are both data structures in Python. Tuples are ordered collections of elements which are immutable. Sets are unordered collections of unique elements."
   ]
  },
  {
   "cell_type": "markdown",
   "id": "b6ddb2e5-1e55-4803-b5a6-d68b60894602",
   "metadata": {},
   "source": [
    "### Use Cases Of Sets:"
   ]
  },
  {
   "cell_type": "markdown",
   "id": "47acd72b-2755-4e49-a640-030bca891e17",
   "metadata": {},
   "source": [
    "###### Membership testing: Use sets to keep only unique elements and removing duplicates."
   ]
  },
  {
   "cell_type": "markdown",
   "id": "bba8e739-4f37-4015-bef8-b35b91940813",
   "metadata": {},
   "source": [
    "###### Checking Element: Sets are great for quickly checking if an item is present or not."
   ]
  },
  {
   "cell_type": "markdown",
   "id": "c60b624e-1384-4840-b2b9-30e3f6b0f821",
   "metadata": {},
   "source": [
    "###### Mathematical operations: Perform set operations like Union,Intersection, Difference,Symmetric Difference"
   ]
  },
  {
   "cell_type": "markdown",
   "id": "55be778f-9263-46da-a0d0-ab4e989c71e0",
   "metadata": {},
   "source": [
    "###### Unordered Collections: It means that the items in a set do not have a defined order.Set items can appear in a different order in every time you use them and cannot be access by index ."
   ]
  },
  {
   "cell_type": "markdown",
   "id": "37be7449-4cde-42d0-87c3-d0ee4868a842",
   "metadata": {},
   "source": [
    "###### Implementing algorithms that involve sets, such as graph traversal or data analysis"
   ]
  },
  {
   "cell_type": "markdown",
   "id": "0502b839-c24a-4804-a530-e761b2c26db2",
   "metadata": {},
   "source": [
    "### Use Cases Of Tuples:"
   ]
  },
  {
   "cell_type": "markdown",
   "id": "eb3feb65-d88a-40c7-b66b-e96ad0f97d94",
   "metadata": {},
   "source": [
    "##### Immutable data: Use tuples to store data that shouldn’t change."
   ]
  },
  {
   "cell_type": "markdown",
   "id": "cc9fa085-ac87-4f9e-851f-f1762788345a",
   "metadata": {},
   "source": [
    "##### Dictionary Keys: Use tuples as keys in dictionaries because they can’t be changed."
   ]
  },
  {
   "cell_type": "markdown",
   "id": "53f2916c-edc0-481c-836e-159b1e5e145b",
   "metadata": {},
   "source": [
    "##### Return Multiple Values:: It can return multiple values from a function."
   ]
  },
  {
   "cell_type": "markdown",
   "id": "61e39a17-bfa4-47dd-a6e6-2b6dcea390f6",
   "metadata": {},
   "source": [
    "##### Unpacking: Can be unpacked into individual variables."
   ]
  },
  {
   "cell_type": "markdown",
   "id": "81624ec0-1325-471f-aa1c-2312df41b54c",
   "metadata": {},
   "source": [
    "##### Heterogeneous data: It can store elements of different data types within the same tuple."
   ]
  },
  {
   "cell_type": "markdown",
   "id": "d226a5c3-eb96-4312-baf6-5303ab72bcb7",
   "metadata": {},
   "source": [
    "#### These are Some use case of Tuples and Sets"
   ]
  },
  {
   "cell_type": "markdown",
   "id": "06c93950-1d36-4603-b0d0-1787b6c42fbe",
   "metadata": {},
   "source": [
    "# Question-7. Describe how to add, modify, and delete items in a dictionary with examples."
   ]
  },
  {
   "cell_type": "markdown",
   "id": "88365116-9452-4f9a-bf5e-3fc405d71e1d",
   "metadata": {},
   "source": [
    "### Adding Items to a Dictionary:\n",
    "To addoing items in Dictionary we can first create a dictionary and we simply specify the key and its corresponding value."
   ]
  },
  {
   "cell_type": "code",
   "execution_count": 1,
   "id": "cce04bb6-f77d-4bc7-98f1-f336372e37f0",
   "metadata": {},
   "outputs": [
    {
     "name": "stdout",
     "output_type": "stream",
     "text": [
      "{'apple': 10, 'banana': 20, 'cherry': 50}\n",
      "{'apple': 10, 'banana': 20, 'cherry': 50, 'orange': 40}\n"
     ]
    }
   ],
   "source": [
    "#Exammple\n",
    "Fruit_price = {\"apple\":10,\"banana\":20,\"cherry\":50}\n",
    "print(Fruit_price)\n",
    "Fruit_price[\"orange\"] = 40\n",
    "print(Fruit_price)"
   ]
  },
  {
   "cell_type": "markdown",
   "id": "9f8faf3b-7a3f-4984-b7f7-6aeaf548e36a",
   "metadata": {},
   "source": [
    "### Modifying Items in a Dictionary:\n",
    "To modify the value associated with an existing item we can access the item and assign a new value."
   ]
  },
  {
   "cell_type": "code",
   "execution_count": 2,
   "id": "c0b64446-615d-41e7-930f-4681adc2905c",
   "metadata": {},
   "outputs": [
    {
     "name": "stdout",
     "output_type": "stream",
     "text": [
      "{'apple': 10, 'banana': 20, 'cherry': 50}\n",
      "{'apple': 10, 'banana': 70, 'cherry': 50}\n"
     ]
    }
   ],
   "source": [
    "#Example\n",
    "Fruit_price = {\"apple\":10,\"banana\":20,\"cherry\":50}\n",
    "print(Fruit_price)\n",
    "Fruit_price[\"banana\"] = 70\n",
    "print(Fruit_price)"
   ]
  },
  {
   "cell_type": "markdown",
   "id": "5cd53ed2-2c59-409d-a529-0c9b4cf30c9b",
   "metadata": {},
   "source": [
    "### Deleting Items from a Dictionary:\n",
    "To remove an item from a dictionary we can use the \"del\" keyword along with the item."
   ]
  },
  {
   "cell_type": "code",
   "execution_count": 3,
   "id": "eaa8c2bf-06ae-41a5-bb9a-ecdc581c141c",
   "metadata": {},
   "outputs": [
    {
     "name": "stdout",
     "output_type": "stream",
     "text": [
      "{'apple': 10, 'banana': 20, 'cherry': 50, 'orange': 40}\n",
      "{'apple': 10, 'banana': 20, 'cherry': 50}\n"
     ]
    }
   ],
   "source": [
    "#Example\n",
    "Fruit_price = {'apple': 10, 'banana': 20, 'cherry': 50, 'orange': 40}\n",
    "print(Fruit_price)\n",
    "del Fruit_price[\"orange\"]\n",
    "print(Fruit_price)"
   ]
  },
  {
   "cell_type": "markdown",
   "id": "696776fa-7733-4df9-8f02-dbef7a93901b",
   "metadata": {},
   "source": [
    "# Question-8.  Discuss the importance of dictionary keys being immutable and provide example"
   ]
  },
  {
   "cell_type": "markdown",
   "id": "69cd202d-c425-4a6c-8c81-9e9d1e692c35",
   "metadata": {},
   "source": [
    "#### Importance of Immutable Dictionary Keys:\n",
    "In Python dictionary keys must be immutable. This means they cannot be changed after they are created."
   ]
  },
  {
   "cell_type": "markdown",
   "id": "7ed1f822-2584-4d9e-82a9-4300eeb9ab18",
   "metadata": {},
   "source": [
    "#### Why Immutability important?"
   ]
  },
  {
   "cell_type": "markdown",
   "id": "8880df8e-547c-48cb-857d-d9c18c137af7",
   "metadata": {},
   "source": [
    "##### 1. Hashing:\n",
    "Dictionaries use hashing to store and retrieve keys-value pairs efficiently.The hash value of a key is used to determine its location within the dictionary."
   ]
  },
  {
   "cell_type": "markdown",
   "id": "ce7088df-92bc-4f80-adce-e61de62d3066",
   "metadata": {},
   "source": [
    "##### 2. Comparison:\n",
    "Dictionary use key comparison to determine if two keys are equal. Immutable objects have consistent comparison behavior, ensuring that keys are compared correctly and consistently"
   ]
  },
  {
   "cell_type": "markdown",
   "id": "354d78ad-ee19-4362-a183-3e8015e43de4",
   "metadata": {},
   "source": [
    "##### 3. Consistency:\n",
    "Immutability makes sure that dictionary keys stay always same preventing problems and making it easier to understand how the dictionary works."
   ]
  },
  {
   "cell_type": "markdown",
   "id": "4f1864ea-8842-45e1-95d3-7f142c130c2a",
   "metadata": {},
   "source": [
    "### Number:- Integer, float and complex numbers are immutable\n",
    "\n",
    "### Strings:- String are immutable sequences of characters.\n",
    "\n",
    "### Tuples:- Tuples are immutabke sequence of element.\n",
    "\n",
    "### Frozen sets:- Frozen sets are immutabke sets"
   ]
  },
  {
   "cell_type": "code",
   "execution_count": null,
   "id": "63e9b713-14f5-4cab-9060-6379d9d7b2ea",
   "metadata": {},
   "outputs": [],
   "source": []
  },
  {
   "cell_type": "code",
   "execution_count": 6,
   "id": "8a75e275-c420-48dd-af40-edd071b203bd",
   "metadata": {},
   "outputs": [
    {
     "name": "stdout",
     "output_type": "stream",
     "text": [
      "{1: 'banana', 2: 'apple', (3, 4): 'orange', 'mango': 5}\n",
      "{1: 'Cherry', 2: 'apple', (3, 4): 'orange', 'mango': 5}\n",
      "{1: 'Cherry', 2: 'apple', (3, 4): 'Berry', 'mango': 5}\n"
     ]
    },
    {
     "ename": "TypeError",
     "evalue": "unhashable type: 'list'",
     "output_type": "error",
     "traceback": [
      "\u001b[0;31m---------------------------------------------------------------------------\u001b[0m",
      "\u001b[0;31mTypeError\u001b[0m                                 Traceback (most recent call last)",
      "Cell \u001b[0;32mIn[6], line 8\u001b[0m\n\u001b[1;32m      6\u001b[0m Fruit_stand[\u001b[38;5;241m3\u001b[39m,\u001b[38;5;241m4\u001b[39m] \u001b[38;5;241m=\u001b[39m \u001b[38;5;124m\"\u001b[39m\u001b[38;5;124mBerry\u001b[39m\u001b[38;5;124m\"\u001b[39m\n\u001b[1;32m      7\u001b[0m \u001b[38;5;28mprint\u001b[39m(Fruit_stand)\n\u001b[0;32m----> 8\u001b[0m \u001b[43mFruit_stand\u001b[49m\u001b[43m[\u001b[49m\u001b[43m[\u001b[49m\u001b[38;5;241;43m1\u001b[39;49m\u001b[43m,\u001b[49m\u001b[38;5;241;43m2\u001b[39;49m\u001b[43m]\u001b[49m\u001b[43m]\u001b[49m \u001b[38;5;241m=\u001b[39m \u001b[38;5;124m'\u001b[39m\u001b[38;5;124mpear\u001b[39m\u001b[38;5;124m'\u001b[39m  \u001b[38;5;66;03m# This will raise an error because list are mutable\u001b[39;00m\n",
      "\u001b[0;31mTypeError\u001b[0m: unhashable type: 'list'"
     ]
    }
   ],
   "source": [
    "#Example\n",
    "Fruit_stand = {1:\"banana\", 2:\"apple\",(3,4):\"orange\",\"mango\":5}\n",
    "print(Fruit_stand)\n",
    "Fruit_stand [1] = \"Cherry\" #his will work because numers and tuples are immutable\n",
    "print (Fruit_stand)\n",
    "Fruit_stand[3,4] = \"Berry\"\n",
    "print(Fruit_stand)\n",
    "Fruit_stand[[1,2]] = 'pear'  # This will raise an error because list are mutable"
   ]
  },
  {
   "cell_type": "code",
   "execution_count": null,
   "id": "34595ff6-81a6-4641-9ab4-f8c36cb91183",
   "metadata": {},
   "outputs": [],
   "source": []
  }
 ],
 "metadata": {
  "kernelspec": {
   "display_name": "Python 3 (ipykernel)",
   "language": "python",
   "name": "python3"
  },
  "language_info": {
   "codemirror_mode": {
    "name": "ipython",
    "version": 3
   },
   "file_extension": ".py",
   "mimetype": "text/x-python",
   "name": "python",
   "nbconvert_exporter": "python",
   "pygments_lexer": "ipython3",
   "version": "3.10.8"
  }
 },
 "nbformat": 4,
 "nbformat_minor": 5
}
