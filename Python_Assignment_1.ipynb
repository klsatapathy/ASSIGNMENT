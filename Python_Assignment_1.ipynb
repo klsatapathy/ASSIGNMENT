{
 "cells": [
  {
   "cell_type": "markdown",
   "id": "057a73ca-01e9-4d13-9234-4c31c4a2a691",
   "metadata": {},
   "source": [
    "# Question-1. Explain the key feature of python that make it a popular choice for programming?"
   ]
  },
  {
   "cell_type": "markdown",
   "id": "89e14155-f6e9-4520-941f-7853d4db27a4",
   "metadata": {},
   "source": [
    "#### Ans\n",
    "Python is a popular programming language because its simple, readable syntax, making it accessible for beginners and efficient for experienced developers. It is versatility allows it to be used in various domains, from web development to data science and automation. Python have extensive standard library and rich ecosystem of frameworks support rapid development. It's cross-platform, running seamlessly on Windows, macOS, and Linux."
   ]
  },
  {
   "cell_type": "markdown",
   "id": "c944674d-c216-4e13-8f94-f51b9f384d34",
   "metadata": {},
   "source": [
    "### Some Important Key Feature"
   ]
  },
  {
   "cell_type": "markdown",
   "id": "ff608ead-3b46-44b2-98ec-267431367cdb",
   "metadata": {},
   "source": [
    "##### Easy to Learn and Use:\n",
    "Python's syntax is clean and easy to understand, making it an excellent choice for beginners.."
   ]
  },
  {
   "cell_type": "markdown",
   "id": "23df547e-698c-4ffc-a38d-eb2791f360ba",
   "metadata": {},
   "source": [
    "##### Versatility:\n",
    "Python is a general-purpose language, used in web development, data science, automation, machine learning, and more, making it highly adaptable."
   ]
  },
  {
   "cell_type": "markdown",
   "id": "a303ba42-2061-4e01-b58a-240b3122bf14",
   "metadata": {},
   "source": [
    "##### Extensive Libraries:\n",
    "Python’s rich ecosystem includes libraries like NumPy, Pandas, and TensorFlow, which streamline development across various fields."
   ]
  },
  {
   "cell_type": "markdown",
   "id": "51d7a459-0f91-4406-ac56-bd6c96cc825e",
   "metadata": {},
   "source": [
    "##### Cross-Platform Compatibility:\n",
    "Python runs on multiple operating systems without modification."
   ]
  },
  {
   "cell_type": "markdown",
   "id": "57130dfe-6c9e-44f7-a3cb-d126f1305e6d",
   "metadata": {},
   "source": [
    "##### High level language:\n",
    "Python is a high-level programming language that is known for its ease of readability.Python’s syntax is designed to be easy to read and understand.This makes it a great choice for beginners who are just starting to learn programming.\n"
   ]
  },
  {
   "cell_type": "code",
   "execution_count": null,
   "id": "adb0d312-edfb-494b-b7a4-fd033c8e713a",
   "metadata": {},
   "outputs": [],
   "source": []
  },
  {
   "cell_type": "markdown",
   "id": "659181fc-5fa8-49c5-bc1c-281d55fe6bf2",
   "metadata": {},
   "source": [
    "# Question-2. Describe the role of predefine keyword in python and provide example of how they are used in a program."
   ]
  },
  {
   "cell_type": "markdown",
   "id": "b673b2df-1382-4e96-ac0a-4fed1ee2d619",
   "metadata": {},
   "source": [
    " #### Ans:\n",
    " Predefined keywords in Python are reserved words that have specific meanings within the language. They cannot be used as variable or function names. These keywords play a crucial role in defining the structure and functionality of Python programs.they are:- 'if' , 'for' , 'while' etc"
   ]
  },
  {
   "cell_type": "code",
   "execution_count": 1,
   "id": "0ae4d288-a8b2-4702-b46c-b05dfbed3635",
   "metadata": {},
   "outputs": [
    {
     "name": "stdout",
     "output_type": "stream",
     "text": [
      "\n",
      "Here is a list of the Python keywords.  Enter any keyword to get more help.\n",
      "\n",
      "False               class               from                or\n",
      "None                continue            global              pass\n",
      "True                def                 if                  raise\n",
      "and                 del                 import              return\n",
      "as                  elif                in                  try\n",
      "assert              else                is                  while\n",
      "async               except              lambda              with\n",
      "await               finally             nonlocal            yield\n",
      "break               for                 not                 \n",
      "\n"
     ]
    }
   ],
   "source": [
    "#Predefine Keywoard in python are:-\n",
    "help('keywords')"
   ]
  },
  {
   "cell_type": "markdown",
   "id": "d40aa2d3-5f5e-4ac9-966e-f6c4c07ba9a9",
   "metadata": {},
   "source": [
    "### Uses:"
   ]
  },
  {
   "cell_type": "raw",
   "id": "1a01618f-ab46-4a4f-851f-5a639cdbb42d",
   "metadata": {},
   "source": [
    "‘if’, ‘else’ , ‘elif’ : are used for conditional statement"
   ]
  },
  {
   "cell_type": "raw",
   "id": "dc6775d5-cebd-405f-9a3a-e6fe3721c7b3",
   "metadata": {},
   "source": [
    "'for' , 'while' : Used for looping through a block of code multiple times"
   ]
  },
  {
   "cell_type": "raw",
   "id": "3022ad3b-c561-4cbc-b236-a913f7020dd5",
   "metadata": {},
   "source": [
    "'break' , 'continue' : Used to control the flow of loops"
   ]
  },
  {
   "cell_type": "raw",
   "id": "f031ecdf-733e-46f2-8b40-f4e144cac69c",
   "metadata": {},
   "source": [
    "'try' , 'except' , 'finally' : Used for exception handling"
   ]
  },
  {
   "cell_type": "raw",
   "id": "ca75ccfd-ad18-4a0d-b4d1-fbc787075c82",
   "metadata": {},
   "source": [
    "'def' , 'return' : used for defining functions and returning values from functions"
   ]
  },
  {
   "cell_type": "code",
   "execution_count": 2,
   "id": "c569c56f-7827-42eb-8293-b3e34e4f5602",
   "metadata": {},
   "outputs": [
    {
     "name": "stdout",
     "output_type": "stream",
     "text": [
      "Possitive Number\n"
     ]
    }
   ],
   "source": [
    "#Example \n",
    "number = 18\n",
    "if number >0:\n",
    "    print (\"Possitive Number\")\n",
    "elif number == 0:\n",
    "    print (\"Zero\")\n",
    "else:\n",
    "    print(\"Negetive Number\")"
   ]
  },
  {
   "cell_type": "markdown",
   "id": "6a541276-2496-47a1-9b8c-c8b727fb4a57",
   "metadata": {},
   "source": [
    "# Question-3. Compare and constrast mutable and immutable objects in python with example."
   ]
  },
  {
   "cell_type": "markdown",
   "id": "1d48d308-472d-4441-843e-02997f0a2b57",
   "metadata": {},
   "source": [
    "### Mutable :\n",
    "Mutable objects can be change after their creation.You Can change object content and state withoput changeing the identity"
   ]
  },
  {
   "cell_type": "raw",
   "id": "b9c961ad-5b7d-4bcc-883f-dbd6d664d6f2",
   "metadata": {},
   "source": [
    "List, Set, Dictonary are Mutable object"
   ]
  },
  {
   "cell_type": "markdown",
   "id": "8a7ceb30-9f35-4eda-b6e1-2a5e719a2c07",
   "metadata": {},
   "source": [
    "### Immutable :\n",
    "Immutable objects can not be changd after creation. You can not change object content."
   ]
  },
  {
   "cell_type": "raw",
   "id": "298c91b5-d618-4565-a95a-896a242e2b56",
   "metadata": {},
   "source": [
    "Tuple,Integers and String Are immutable"
   ]
  },
  {
   "cell_type": "markdown",
   "id": "f4a1d14d-d46d-44a5-badc-3341f6bbd3ff",
   "metadata": {},
   "source": [
    "## Example of Mutable Object"
   ]
  },
  {
   "cell_type": "code",
   "execution_count": 11,
   "id": "16c61647-4033-45b6-b0d0-f5a8a62ea3de",
   "metadata": {},
   "outputs": [
    {
     "name": "stdout",
     "output_type": "stream",
     "text": [
      "['Apple', 'bannan', 'potatos', 12, 35.2, 'lokanath', True]\n",
      "['Apple', 'potatos', 12, 35.2, 'lokanath', True]\n"
     ]
    }
   ],
   "source": [
    "#Example of a list\n",
    "list_my = ['Apple' , 'bannan' , 'potatos', 12, 35.2, 'lokanath',True]\n",
    "print(list_my)\n",
    "my_list.remove('bannan')\n",
    "print(list_my)"
   ]
  },
  {
   "cell_type": "code",
   "execution_count": 12,
   "id": "4e6a4ded-2e9d-4b68-9d87-775acd1169db",
   "metadata": {},
   "outputs": [
    {
     "name": "stdout",
     "output_type": "stream",
     "text": [
      "{'data': 1024, 'used': 568}\n",
      "{'data': 1024, 'used': 568, 'available': 456}\n"
     ]
    }
   ],
   "source": [
    "#Example of a Dictionaries\n",
    "dict_my = {'data':1024 , 'used':568}\n",
    "print (dict_my)\n",
    "dict_my['available'] = 456\n",
    "print(dict_my)"
   ]
  },
  {
   "cell_type": "code",
   "execution_count": 15,
   "id": "01aae340-a82f-4e10-9598-7784b76f1b3f",
   "metadata": {},
   "outputs": [
    {
     "name": "stdout",
     "output_type": "stream",
     "text": [
      "{1, 2, 3, 4, 5, 6}\n",
      "{1, 2, 3, 4, 5, 6, 7}\n"
     ]
    }
   ],
   "source": [
    "#Example of a Set\n",
    "set_my = {1,2,3,4,5,6,}\n",
    "print(set_my)\n",
    "set_my.add(7)\n",
    "print(set_my)"
   ]
  },
  {
   "cell_type": "markdown",
   "id": "948506d5-a8a0-401e-8e32-42934160beb0",
   "metadata": {},
   "source": [
    "## Example of Immutable Object"
   ]
  },
  {
   "cell_type": "code",
   "execution_count": 16,
   "id": "852146b8-c5fe-4772-b5a3-8849202dd0bb",
   "metadata": {},
   "outputs": [
    {
     "name": "stdout",
     "output_type": "stream",
     "text": [
      "(15, 32, 24, 87, 96, 45)\n"
     ]
    },
    {
     "data": {
      "text/plain": [
       "tuple"
      ]
     },
     "execution_count": 16,
     "metadata": {},
     "output_type": "execute_result"
    }
   ],
   "source": [
    "#Example of a Tuple\n",
    "age = (15,32,24,87,96,45,)\n",
    "print(age)\n",
    "type(age)"
   ]
  },
  {
   "cell_type": "code",
   "execution_count": 17,
   "id": "2bd78b84-6422-44f9-8460-fd5a837c41fb",
   "metadata": {},
   "outputs": [
    {
     "name": "stdout",
     "output_type": "stream",
     "text": [
      "pwskills\n"
     ]
    },
    {
     "data": {
      "text/plain": [
       "str"
      ]
     },
     "execution_count": 17,
     "metadata": {},
     "output_type": "execute_result"
    }
   ],
   "source": [
    "#Example of a String\n",
    "name = \"pwskills\"\n",
    "print(name)\n",
    "type(name)"
   ]
  },
  {
   "cell_type": "code",
   "execution_count": 18,
   "id": "f46c6c94-802e-49b7-a00e-1d4bd2a4eeb2",
   "metadata": {},
   "outputs": [
    {
     "name": "stdout",
     "output_type": "stream",
     "text": [
      "15\n",
      "23\n"
     ]
    }
   ],
   "source": [
    "#Example of a integers\n",
    "y = 15\n",
    "print(y)\n",
    "y = y+8\n",
    "print(y)"
   ]
  },
  {
   "cell_type": "markdown",
   "id": "43df2376-fe4f-4322-8c04-16eafae97df5",
   "metadata": {},
   "source": [
    "# Question-4.Discuss the different types of operators in python and provide examples of how they are used."
   ]
  },
  {
   "cell_type": "raw",
   "id": "f829595c-8dd0-47bf-8f66-ce087cd57ca8",
   "metadata": {},
   "source": [
    "In Python there are many Type of opertor:"
   ]
  },
  {
   "cell_type": "markdown",
   "id": "2a642745-be71-4d77-87d9-86da439886d1",
   "metadata": {},
   "source": [
    "##### 1.Arthematic operator\n",
    "Used for performing basic mathematical operations like addition, subtraction, division and Multiplication."
   ]
  },
  {
   "cell_type": "code",
   "execution_count": 20,
   "id": "db6f0096-1308-4f3d-a48b-babfa293322d",
   "metadata": {},
   "outputs": [
    {
     "name": "stdout",
     "output_type": "stream",
     "text": [
      "19\n",
      "11\n",
      "60\n",
      "3.75\n",
      "3\n",
      "50625\n",
      "3\n"
     ]
    }
   ],
   "source": [
    "#Example of arthematic operator\n",
    "x = 15\n",
    "y = 4\n",
    "print(x+y)\n",
    "print(x-y)\n",
    "print(x*y)\n",
    "print(x/y)\n",
    "print(x%y)\n",
    "print(x**y)\n",
    "print(x//y)"
   ]
  },
  {
   "cell_type": "markdown",
   "id": "f49b7d88-8202-41a2-a33b-542ce2024177",
   "metadata": {},
   "source": [
    "##### 2.Assignment Operators\n",
    "Used to assign Value into Variable"
   ]
  },
  {
   "cell_type": "raw",
   "id": "7b67787c-1c05-4533-8e3a-729061721254",
   "metadata": {},
   "source": [
    "Symbole of Assignment operators are:\n",
    "'='\n",
    "'+='\n",
    "'-='\n",
    "'*='\n",
    "'/='\n",
    "'**='\n",
    "'//='\n",
    "'%='"
   ]
  },
  {
   "cell_type": "code",
   "execution_count": 21,
   "id": "ac90935f-3f7a-4ab8-8d57-15cc6b762ac4",
   "metadata": {},
   "outputs": [
    {
     "name": "stdout",
     "output_type": "stream",
     "text": [
      "8\n",
      "15\n"
     ]
    }
   ],
   "source": [
    "#Example\n",
    "a = 8\n",
    "print(a)\n",
    "a += 7\n",
    "print(a)"
   ]
  },
  {
   "cell_type": "markdown",
   "id": "0ef50146-bf1a-4db3-81bb-19b7cec74687",
   "metadata": {},
   "source": [
    "##### 3.Comparison operator:\n",
    "Used To Compare To value."
   ]
  },
  {
   "cell_type": "raw",
   "id": "57c83c0e-f4b2-485b-bc62-269fbda61eeb",
   "metadata": {},
   "source": [
    "Symbole of Comparison operator are:\n",
    "'==' equal to\n",
    "'!=' not equal to\n",
    "'>' greater than\n",
    "'<' Less than\n",
    "'>=' greater than equal to\n",
    "'<=' Less than equal to"
   ]
  },
  {
   "cell_type": "code",
   "execution_count": 26,
   "id": "4b4b9ad1-421a-4ef1-a16d-f32516dc9a6f",
   "metadata": {},
   "outputs": [
    {
     "name": "stdout",
     "output_type": "stream",
     "text": [
      "False\n",
      "True\n",
      "False\n",
      "True\n",
      "True\n",
      "False\n"
     ]
    }
   ],
   "source": [
    "#Example of Comparison Operators\n",
    "a,b = 10,15\n",
    "print (a == b)\n",
    "print(a!=b)\n",
    "print(a>b)\n",
    "print(a<b)\n",
    "print(a<=b)\n",
    "print(a>=b)"
   ]
  },
  {
   "cell_type": "markdown",
   "id": "07013528-4e30-4e85-95f0-8f9772553fcb",
   "metadata": {},
   "source": [
    "##### 4.Logical Operators\n",
    "Used To perform logical operation "
   ]
  },
  {
   "cell_type": "raw",
   "id": "c35a5b4a-cbcf-4a75-b5cb-dfcf2d5987e6",
   "metadata": {},
   "source": [
    "'and' , 'or' , 'not' are used in logicall operation"
   ]
  },
  {
   "cell_type": "code",
   "execution_count": 27,
   "id": "1693a1c5-5b39-49fc-8bae-9fbefb46eb33",
   "metadata": {},
   "outputs": [
    {
     "name": "stdout",
     "output_type": "stream",
     "text": [
      "False\n",
      "True\n",
      "True\n"
     ]
    }
   ],
   "source": [
    "#Example of Logical Operation\n",
    "a = True\n",
    "b = False\n",
    "print(a and b)\n",
    "print(a or b)\n",
    "print(not b)"
   ]
  },
  {
   "cell_type": "markdown",
   "id": "c3c2c38a-2922-411d-b175-bf983afd9bde",
   "metadata": {},
   "source": [
    "##### 5.Bitwise Operator:\n",
    "Operate on bits and perform bit-by-bit operations"
   ]
  },
  {
   "cell_type": "raw",
   "id": "1d981d94-7354-47c2-a9ac-953a3d34f05b",
   "metadata": {},
   "source": [
    "Symbole of Bitwise Operator\n",
    "'&' Bitwise and\n",
    "'|' Bitwise or\n",
    "'^' Biwise XOR\n",
    "'~' Bitwise Not\n",
    "'<<' Right Shift\n",
    "'>>' Left Shift"
   ]
  },
  {
   "cell_type": "code",
   "execution_count": 30,
   "id": "2c48ea5f-463e-4af0-bf83-bdb2bd1b7464",
   "metadata": {},
   "outputs": [
    {
     "name": "stdout",
     "output_type": "stream",
     "text": [
      "8\n",
      "12\n",
      "4\n",
      "-9\n",
      "3072\n",
      "0\n"
     ]
    }
   ],
   "source": [
    "#Example of Bitwise Operator\n",
    "x = 12\n",
    "y = 8\n",
    "print(x & y)\n",
    "print(x|y)\n",
    "print(x^y)\n",
    "print(~y)\n",
    "print(x<<y)\n",
    "print(x>>y)"
   ]
  },
  {
   "cell_type": "markdown",
   "id": "c9fd2b48-5dd8-4532-b33a-168efebaf0e9",
   "metadata": {},
   "source": [
    "##### Membership Operator:\n",
    "Used to test if a sequence contains an element."
   ]
  },
  {
   "cell_type": "code",
   "execution_count": 1,
   "id": "304b8b66-b669-47ec-a407-01b255015a45",
   "metadata": {},
   "outputs": [
    {
     "name": "stdout",
     "output_type": "stream",
     "text": [
      "True\n",
      "True\n",
      "False\n"
     ]
    }
   ],
   "source": [
    "#Example of a Membership operator\n",
    "x = [1,2,3,4,5,6,7]\n",
    "print(3 in x)\n",
    "print(8 not in x)\n",
    "print(6 not in x)"
   ]
  },
  {
   "cell_type": "markdown",
   "id": "660df688-99de-484b-b274-32ff2d08b58c",
   "metadata": {},
   "source": [
    "##### Identity Operators:\n",
    "Used to compare objects by memory location ."
   ]
  },
  {
   "cell_type": "code",
   "execution_count": 2,
   "id": "69d09978-2c8a-428e-bf15-427d6bf7d0a6",
   "metadata": {},
   "outputs": [
    {
     "name": "stdout",
     "output_type": "stream",
     "text": [
      "True\n",
      "False\n",
      "False\n"
     ]
    }
   ],
   "source": [
    "#Example of a Identity Operator\n",
    "x = [1,2,3]\n",
    "y = [4,5,6]\n",
    "z = x\n",
    "print(x is z)\n",
    "print(x is y)\n",
    "print(y is z)"
   ]
  },
  {
   "cell_type": "markdown",
   "id": "1cc460f9-6bca-4abc-bd1b-bb7dd4a4cacb",
   "metadata": {},
   "source": [
    "# Question-5. Explain the concept of type casting in python with example."
   ]
  },
  {
   "cell_type": "markdown",
   "id": "353f8676-9da6-4547-b613-78d647714a1b",
   "metadata": {},
   "source": [
    "In Python type casting used to converting one data type into another data type.\n",
    "there are two typecasting in python\n",
    "###### Implicit Typecasting\n",
    "###### Explicit Typecasting"
   ]
  },
  {
   "cell_type": "markdown",
   "id": "61324e8b-5cd5-4483-ac9c-1e8a0588c12e",
   "metadata": {},
   "source": [
    "#### Implicit Typecasting\n",
    "In this type of conversion, Python automatically converts the data type."
   ]
  },
  {
   "cell_type": "code",
   "execution_count": 3,
   "id": "b1f4afbe-feba-415b-9950-30f43500042f",
   "metadata": {},
   "outputs": [
    {
     "name": "stdout",
     "output_type": "stream",
     "text": [
      "17.4\n",
      "<class 'float'>\n"
     ]
    }
   ],
   "source": [
    "#Example Of Implicity Typecasting\n",
    "x = 12\n",
    "y = 5.4\n",
    "result = x+y\n",
    "print(result)\n",
    "print(type(result))"
   ]
  },
  {
   "cell_type": "markdown",
   "id": "a67849ef-675b-4fb1-a347-5407173e5637",
   "metadata": {},
   "source": [
    "#### Explicit Typecasting\n",
    "This type of conversion is performed manually using predefined functions like ‘ str() ‘ ,  ‘ int() ‘ , ‘ float() ‘ etc."
   ]
  },
  {
   "cell_type": "code",
   "execution_count": 5,
   "id": "64a26808-4e79-4485-97cb-0026f4dde6a4",
   "metadata": {},
   "outputs": [
    {
     "name": "stdout",
     "output_type": "stream",
     "text": [
      "14.5\n",
      "<class 'float'>\n"
     ]
    }
   ],
   "source": [
    "#Example of Explicit Typecasting\n",
    "a = \"12\"\n",
    "b = \"2.5\"\n",
    "type_a = int(a)\n",
    "type_b = float(b)\n",
    "result = type_a + type_b\n",
    "print(result)\n",
    "print(type(result))"
   ]
  },
  {
   "cell_type": "markdown",
   "id": "270d5329-2466-4cc0-9e46-18a117dddaef",
   "metadata": {},
   "source": [
    "# Questio-6. How do conditional statements work in python? Illustrate with example"
   ]
  },
  {
   "cell_type": "raw",
   "id": "fc45f854-f5e3-4d55-9187-0610a8cd23e4",
   "metadata": {},
   "source": [
    "Conditional statements in Python allow you to execute code only if certain conditions are met. "
   ]
  },
  {
   "cell_type": "markdown",
   "id": "cbc7b8db-6d37-461b-ab6f-29782389bc50",
   "metadata": {},
   "source": [
    "##### Type of conditional Statement in Python:"
   ]
  },
  {
   "cell_type": "raw",
   "id": "3e0ea969-2322-42d3-b732-296905ecc99b",
   "metadata": {},
   "source": [
    "\"if\"\n",
    "\"elif\" or \"elseif\"\n",
    "\"Nested if\""
   ]
  },
  {
   "cell_type": "code",
   "execution_count": 9,
   "id": "9fbf664e-9110-4b91-8afb-def8acad8bd5",
   "metadata": {},
   "outputs": [
    {
     "name": "stdout",
     "output_type": "stream",
     "text": [
      "you are a child\n"
     ]
    }
   ],
   "source": [
    "#Example Of\"if\" , \"elif\" Statement\n",
    "age = 21\n",
    "if age <= 13:\n",
    "    print(\"you are a child\")\n",
    "elif age < 65:\n",
    "    print(\"you are Adult\")\n",
    "else:\n",
    "    print(\"you aree A Seniour Citizen\")"
   ]
  },
  {
   "cell_type": "code",
   "execution_count": 10,
   "id": "73ce5d3f-efa4-41e3-8c0f-158a4f1719e7",
   "metadata": {},
   "outputs": [
    {
     "name": "stdout",
     "output_type": "stream",
     "text": [
      "it is a normal day\n"
     ]
    }
   ],
   "source": [
    "#Example of Nested if\n",
    "temp = 30\n",
    "if temp > 20:\n",
    "    if temp < 30:\n",
    "        print(\"It is A warm day\")\n",
    "    else:\n",
    "        print(\"it is a normal day\")\n",
    "else:\n",
    "    print(\"it is a cool day\")"
   ]
  },
  {
   "cell_type": "markdown",
   "id": "dd01fc6b-0588-4ee1-a515-9d2c25497951",
   "metadata": {},
   "source": [
    "# Question-7. Describe the different types of loop in Python and their use cases with example."
   ]
  },
  {
   "cell_type": "raw",
   "id": "f4ce34b4-06a5-4e5b-894d-b1ec52f4d310",
   "metadata": {},
   "source": [
    "Loops are used to execute a block of code repeatedly as long as a specified condition is true\n",
    "example are:\n",
    "\"For loop\"\n",
    "\"While loop\""
   ]
  },
  {
   "cell_type": "code",
   "execution_count": 11,
   "id": "8c787f73-91ac-4eb9-9052-567280cc35be",
   "metadata": {},
   "outputs": [
    {
     "name": "stdout",
     "output_type": "stream",
     "text": [
      "apple\n",
      "banana\n",
      "orange\n"
     ]
    }
   ],
   "source": [
    "#The for loop in Python is used to iterate over a sequence like a list, tuple, or string objects.\n",
    "\n",
    "#Example of for Loop\n",
    "fruits = [\"apple\" , \"banana\", \"orange\"]\n",
    "for fruit in fruits:\n",
    "    print(fruit)"
   ]
  },
  {
   "cell_type": "code",
   "execution_count": 12,
   "id": "2325c274-45cf-4992-9881-284eaa4b05b3",
   "metadata": {},
   "outputs": [
    {
     "name": "stdout",
     "output_type": "stream",
     "text": [
      "5\n",
      "4\n",
      "3\n",
      "2\n",
      "1\n"
     ]
    }
   ],
   "source": [
    "#A while loop will run a piece of code while a condition is True.\n",
    "\n",
    "#Example of While loop\n",
    "count = 5\n",
    "while count > 0:\n",
    "    print(count)\n",
    "    count -= 1"
   ]
  },
  {
   "cell_type": "code",
   "execution_count": null,
   "id": "64d2c33f-6ffa-4da0-bb42-1996d7fb2d1a",
   "metadata": {},
   "outputs": [],
   "source": []
  }
 ],
 "metadata": {
  "kernelspec": {
   "display_name": "Python 3 (ipykernel)",
   "language": "python",
   "name": "python3"
  },
  "language_info": {
   "codemirror_mode": {
    "name": "ipython",
    "version": 3
   },
   "file_extension": ".py",
   "mimetype": "text/x-python",
   "name": "python",
   "nbconvert_exporter": "python",
   "pygments_lexer": "ipython3",
   "version": "3.10.8"
  }
 },
 "nbformat": 4,
 "nbformat_minor": 5
}
