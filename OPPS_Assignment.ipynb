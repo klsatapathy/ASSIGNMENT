{
 "cells": [
  {
   "cell_type": "markdown",
   "id": "32ae10a8-273c-4853-b5c8-7164c610fcb6",
   "metadata": {},
   "source": [
    "# Question-1. What are the five key concepts of Object-Oriented Programming (OOP)?"
   ]
  },
  {
   "cell_type": "markdown",
   "id": "14d6bc5d-ab4a-4a09-8787-d866b262dc98",
   "metadata": {},
   "source": [
    "Ans:-\n",
    "\n",
    "## 1. Encapsulation:\n",
    "Encapsulation is the practice of bundling the data and methods that operate on the data into a single class. It also includes restricting direct access to some of an object components often by using access modifiers like private or protected."
   ]
  },
  {
   "cell_type": "code",
   "execution_count": 18,
   "id": "8023794c-a872-4ad3-815b-2ee85cd9e468",
   "metadata": {},
   "outputs": [],
   "source": [
    "#Example of Encapsulation\n",
    "class Student:\n",
    "    def __init__(self, name, degree):\n",
    "        self.name = name\n",
    "        self.degree = degree"
   ]
  },
  {
   "cell_type": "code",
   "execution_count": 19,
   "id": "45fe44bd-5240-4dd0-aa35-bbfc0b725d17",
   "metadata": {},
   "outputs": [],
   "source": [
    "S1 = Student(\"Lokanath\", \"Bacholre\")"
   ]
  },
  {
   "cell_type": "code",
   "execution_count": 21,
   "id": "650b7406-d989-4967-9f8b-bdcbef13f2da",
   "metadata": {},
   "outputs": [
    {
     "data": {
      "text/plain": [
       "'Bacholre'"
      ]
     },
     "execution_count": 21,
     "metadata": {},
     "output_type": "execute_result"
    }
   ],
   "source": [
    "S1.degree"
   ]
  },
  {
   "cell_type": "code",
   "execution_count": 22,
   "id": "c34e0cfe-1a72-4ebc-9d20-fe050ea5785c",
   "metadata": {},
   "outputs": [
    {
     "data": {
      "text/plain": [
       "'Lokanath'"
      ]
     },
     "execution_count": 22,
     "metadata": {},
     "output_type": "execute_result"
    }
   ],
   "source": [
    "S1.name"
   ]
  },
  {
   "cell_type": "markdown",
   "id": "f287c53b-8242-4aeb-a6b6-9a3dcf91bb3d",
   "metadata": {},
   "source": [
    "## 2. Class:\n",
    "A class is a template for creating objects. It defines a set of attributes and methods that the objects created from the class."
   ]
  },
  {
   "cell_type": "code",
   "execution_count": 15,
   "id": "586f8757-6ee1-42d2-8d4a-1dfb31f05fc3",
   "metadata": {},
   "outputs": [],
   "source": [
    "#Example of a class\n",
    "class Book:\n",
    "    def __init__(self, name, author, title):\n",
    "        self.name_of_book = name\n",
    "        self.book_author = author\n",
    "        self.title_name = title\n",
    "        \n",
    "    def extract_details_name_title(self):\n",
    "        print(self.name_of_book, self.title_name)\n",
    "        \n",
    "    def extract_details_name_author(self):\n",
    "        print(self.name_of_book, self.book_author)"
   ]
  },
  {
   "cell_type": "code",
   "execution_count": 16,
   "id": "564f5673-5db9-4bc6-8447-cdb19b6f6c6a",
   "metadata": {},
   "outputs": [],
   "source": [
    "student1 = Book(\"ML\", \"Murphy\", \"Linear regression\")"
   ]
  },
  {
   "cell_type": "code",
   "execution_count": 17,
   "id": "3805b6aa-efa8-4382-a2f6-e221433d272d",
   "metadata": {},
   "outputs": [
    {
     "name": "stdout",
     "output_type": "stream",
     "text": [
      "ML Murphy\n"
     ]
    }
   ],
   "source": [
    "student1.extract_details_name_author()"
   ]
  },
  {
   "cell_type": "markdown",
   "id": "e906bc1d-afb3-4c88-a790-449588c32f63",
   "metadata": {},
   "source": [
    "## 3. Polymorphism:\n",
    "Polymorphism is the ability of an object to take on multiple forms. This can be achieved through method overriding or method overloading."
   ]
  },
  {
   "cell_type": "code",
   "execution_count": 23,
   "id": "b13879aa-e3d7-4724-969a-61a4113f39fa",
   "metadata": {},
   "outputs": [],
   "source": [
    "#Example of Polymorphism\n",
    "class Animal:\n",
    "    def sound(self):\n",
    "        print(\"Animal Sound\")\n",
    "class Cat(Animal):\n",
    "    def sound(self):\n",
    "        print(\"cat meows\")\n",
    "class Dog(Animal):\n",
    "    def sound(self):\n",
    "        print(\"Dog's bhows\")"
   ]
  },
  {
   "cell_type": "code",
   "execution_count": 24,
   "id": "5d32ae4a-91f3-49d0-85da-a53fe1a8bd0c",
   "metadata": {},
   "outputs": [],
   "source": [
    "anm1 = Animal()"
   ]
  },
  {
   "cell_type": "code",
   "execution_count": 26,
   "id": "9f25e50e-d4ea-47c5-9b04-b15bd6f9fabb",
   "metadata": {},
   "outputs": [
    {
     "name": "stdout",
     "output_type": "stream",
     "text": [
      "Animal Sound\n"
     ]
    }
   ],
   "source": [
    "anm1.sound()"
   ]
  },
  {
   "cell_type": "code",
   "execution_count": 27,
   "id": "2c089c82-e803-4f30-bb92-113c249b2740",
   "metadata": {},
   "outputs": [],
   "source": [
    "C1 = Cat()"
   ]
  },
  {
   "cell_type": "code",
   "execution_count": 28,
   "id": "e390a501-3428-4af7-bfba-77c9bef08fa4",
   "metadata": {},
   "outputs": [
    {
     "name": "stdout",
     "output_type": "stream",
     "text": [
      "cat meows\n"
     ]
    }
   ],
   "source": [
    "C1.sound()"
   ]
  },
  {
   "cell_type": "code",
   "execution_count": 29,
   "id": "7df01c16-d51b-48bf-bd5d-8c5eb23cc0bf",
   "metadata": {},
   "outputs": [],
   "source": [
    "D1 = Dog()"
   ]
  },
  {
   "cell_type": "code",
   "execution_count": 30,
   "id": "dfc2fb45-d0da-4150-8686-9def9132f3c4",
   "metadata": {},
   "outputs": [
    {
     "name": "stdout",
     "output_type": "stream",
     "text": [
      "Dog's bhows\n"
     ]
    }
   ],
   "source": [
    "D1.sound()"
   ]
  },
  {
   "cell_type": "markdown",
   "id": "6be24b2d-81bf-4d54-92a3-35b79a3a4271",
   "metadata": {},
   "source": [
    "## 4. Abstraction:\n",
    "Abstraction is the process of identifying only the required characteristics of an object and ignoring the irrelevant details."
   ]
  },
  {
   "cell_type": "code",
   "execution_count": 32,
   "id": "06376c35-94e3-422b-acc6-bbe8c26e7e41",
   "metadata": {},
   "outputs": [],
   "source": [
    "#Example of Abstaction\n",
    "import abc\n",
    "\n",
    "class Shape:\n",
    "    @abc.abstractmethod\n",
    "    def area(self):\n",
    "        pass\n",
    "\n",
    "class Rectangle(Shape):\n",
    "    def __init__(self, width, height):\n",
    "        self.width = width\n",
    "        self.height = height\n",
    "    def area(self):\n",
    "        return self.width * self.height\n",
    "\n",
    "class Square(Shape):\n",
    "    def __init__(self, Lenght):\n",
    "        self.Lenght = Lenght\n",
    "    def area(self):\n",
    "        return self.Lenght**2"
   ]
  },
  {
   "cell_type": "code",
   "execution_count": 33,
   "id": "e7cd455f-569f-48f6-9a04-b3f8583df702",
   "metadata": {},
   "outputs": [],
   "source": [
    "rec1 = Rectangle(7, 9)"
   ]
  },
  {
   "cell_type": "code",
   "execution_count": 35,
   "id": "bca6a81f-487c-40b0-b92f-f941412d4f1b",
   "metadata": {},
   "outputs": [
    {
     "data": {
      "text/plain": [
       "63"
      ]
     },
     "execution_count": 35,
     "metadata": {},
     "output_type": "execute_result"
    }
   ],
   "source": [
    "rec1.area()"
   ]
  },
  {
   "cell_type": "code",
   "execution_count": 36,
   "id": "86ac6b9c-66ae-4ca7-b303-efcde4b68ef0",
   "metadata": {},
   "outputs": [],
   "source": [
    "Sq1 = Square(8)"
   ]
  },
  {
   "cell_type": "code",
   "execution_count": 37,
   "id": "009ccd37-3eda-4e2d-87b6-c2fe42b510ec",
   "metadata": {},
   "outputs": [
    {
     "data": {
      "text/plain": [
       "64"
      ]
     },
     "execution_count": 37,
     "metadata": {},
     "output_type": "execute_result"
    }
   ],
   "source": [
    "Sq1.area()"
   ]
  },
  {
   "cell_type": "markdown",
   "id": "46d9497e-0a08-4a32-83a4-c946ae25a8c3",
   "metadata": {},
   "source": [
    "## 5. Inheritance:\n",
    "Inheritance is a mechanism where child class can inherit attributes and methods from parent class.inheritance is achieved using the \"class\" keyword."
   ]
  },
  {
   "cell_type": "code",
   "execution_count": 38,
   "id": "b92a0105-80ec-4c7a-a79c-e986f896737a",
   "metadata": {},
   "outputs": [],
   "source": [
    "#Example of Inheritance\n",
    "class Vegetable:\n",
    "    def Vegetable_info(self):\n",
    "        print(\"Inside vegetable class this is your vegetable info\")\n",
    "class Potato(Vegetable):\n",
    "    def Potato_info(self):\n",
    "        print(\"Inside vegetable class this is your Potato info\")"
   ]
  },
  {
   "cell_type": "code",
   "execution_count": 39,
   "id": "d2057333-c838-4acc-be5e-91c0f5caa68d",
   "metadata": {},
   "outputs": [
    {
     "name": "stdout",
     "output_type": "stream",
     "text": [
      "Inside vegetable class this is your vegetable info\n"
     ]
    }
   ],
   "source": [
    "V1 = Vegetable()\n",
    "V1.Vegetable_info()"
   ]
  },
  {
   "cell_type": "code",
   "execution_count": 41,
   "id": "21808ff2-96d2-4fb7-8aa9-28a817a6f60f",
   "metadata": {},
   "outputs": [
    {
     "name": "stdout",
     "output_type": "stream",
     "text": [
      "Inside vegetable class this is your Potato info\n"
     ]
    }
   ],
   "source": [
    "P1 = Potato()\n",
    "P1.Potato_info()"
   ]
  },
  {
   "cell_type": "code",
   "execution_count": 42,
   "id": "bca2f2fd-bc79-4f14-82b6-86967b6e4946",
   "metadata": {},
   "outputs": [
    {
     "name": "stdout",
     "output_type": "stream",
     "text": [
      "Inside vegetable class this is your vegetable info\n"
     ]
    }
   ],
   "source": [
    "P1.Vegetable_info()"
   ]
  },
  {
   "cell_type": "markdown",
   "id": "8492574d-51c6-41ff-981b-34ca87dc7e88",
   "metadata": {},
   "source": []
  },
  {
   "cell_type": "markdown",
   "id": "06f5e379-7836-484f-a4db-c117d9b77065",
   "metadata": {},
   "source": [
    "# Question-2. . Write a Python class for a 'Car' with attributes for 'make', 'model', and 'year'. Include a method to display the car's information."
   ]
  },
  {
   "cell_type": "code",
   "execution_count": 43,
   "id": "0978bc54-08ca-4750-af03-9a27defe63be",
   "metadata": {},
   "outputs": [],
   "source": [
    "class Car:\n",
    "    def __init__(self, make, model, year):\n",
    "        self.make = make\n",
    "        self.model = model\n",
    "        self.year = year\n",
    "\n",
    "    def display_info(self):\n",
    "        print(f\"Make: {self.make}\")\n",
    "        print(f\"Model: {self.model}\")\n",
    "        print(f\"Year: {self.year}\")"
   ]
  },
  {
   "cell_type": "code",
   "execution_count": 44,
   "id": "428d8265-3e6f-43d6-bfc6-10c244d0ab34",
   "metadata": {},
   "outputs": [
    {
     "name": "stdout",
     "output_type": "stream",
     "text": [
      "Make: Lamborghini\n",
      "Model: Urus\n",
      "Year: 2024\n"
     ]
    }
   ],
   "source": [
    "\n",
    "My_Car = Car(\"Lamborghini\", \"Urus\", 2024)\n",
    "My_Car.display_info()"
   ]
  },
  {
   "cell_type": "code",
   "execution_count": 45,
   "id": "5643cfac-4b92-4c69-946d-4070fba291b0",
   "metadata": {},
   "outputs": [
    {
     "name": "stdout",
     "output_type": "stream",
     "text": [
      "Make: BMW\n",
      "Model: X7\n",
      "Year: 2023\n"
     ]
    }
   ],
   "source": [
    "My_Cab = Car(\"BMW\", \"X7\", 2023)\n",
    "My_Cab.display_info()"
   ]
  },
  {
   "cell_type": "markdown",
   "id": "fe105170-5af3-4f73-bcc8-27ea9fa9d2f8",
   "metadata": {},
   "source": [
    "# Question-3. Explain the difference between instance methods and class methods. Provide an example of each."
   ]
  },
  {
   "cell_type": "markdown",
   "id": "712070c3-fb1e-40ce-b564-ab6b190119f5",
   "metadata": {},
   "source": [
    "## Class Methods:\n",
    "Class methods belong to the class itself. They are used to perform actions related to the class. Class methods are defined inside a class using the @classmethod decorator."
   ]
  },
  {
   "cell_type": "code",
   "execution_count": 46,
   "id": "3572a76e-3a94-4cfe-8b45-f3bbe4814cff",
   "metadata": {},
   "outputs": [],
   "source": [
    "#Example of a class method\n",
    "class Student:\n",
    "    def __init__(self, name):\n",
    "        self.name = name \n",
    "    \n",
    "    @classmethod \n",
    "    def student_details(cls, name): \n",
    "        return cls(name)"
   ]
  },
  {
   "cell_type": "code",
   "execution_count": 49,
   "id": "cd7bbae5-3e1e-4c6b-bde6-44686567d10e",
   "metadata": {},
   "outputs": [
    {
     "data": {
      "text/plain": [
       "'Lokanath'"
      ]
     },
     "execution_count": 49,
     "metadata": {},
     "output_type": "execute_result"
    }
   ],
   "source": [
    "Student_1 = Student(\"Lokanath\")\n",
    "Student_1.name"
   ]
  },
  {
   "cell_type": "markdown",
   "id": "e302bbad-e448-4b72-94ad-0c2110944427",
   "metadata": {},
   "source": [
    "## Instance Methods:\n",
    "Instance methods are the most common methods in a class. They operate on an instance of the class which means they can access and modify the specific instance's attributes."
   ]
  },
  {
   "cell_type": "code",
   "execution_count": 55,
   "id": "25a33915-0ab8-4618-8639-f2997b22af7a",
   "metadata": {},
   "outputs": [],
   "source": [
    "#Example of a instance Methode\n",
    "class Person:\n",
    "    def __init__(self, name, age):\n",
    "        self.name = name\n",
    "        self.age = age\n",
    "\n",
    "    def Details(self):\n",
    "        print(f\"Hello My name is {self.name}!And i am {self.age} years old\")"
   ]
  },
  {
   "cell_type": "code",
   "execution_count": 56,
   "id": "cb7c7972-a4b7-4a29-b3f7-498e315d13c3",
   "metadata": {},
   "outputs": [
    {
     "name": "stdout",
     "output_type": "stream",
     "text": [
      "Hello My name is Lokanath!And i am 21 years old\n"
     ]
    }
   ],
   "source": [
    "Per_info = Person(\"Lokanath\", 21)\n",
    "Per_info.Details()"
   ]
  },
  {
   "cell_type": "markdown",
   "id": "73d54543-b964-4f8b-be4a-f429638f0efe",
   "metadata": {},
   "source": [
    "## Some Diffrence Between Insatnce & Class Method are:\n",
    "### Instance Method:"
   ]
  },
  {
   "cell_type": "raw",
   "id": "0fd22023-b000-4bdd-aefd-cf71a3ae9012",
   "metadata": {},
   "source": [
    ":- Takes 'self' as the first parameter.\n",
    ":- It can access both instance attributes and class attributes\n",
    ":- It called on an instance of the class.\n",
    ":- Instance methods are used to perform actions related to an instance"
   ]
  },
  {
   "cell_type": "markdown",
   "id": "56b89b02-c9e5-4070-bae8-a988edfed04c",
   "metadata": {},
   "source": [
    "### Class Methode:"
   ]
  },
  {
   "cell_type": "raw",
   "id": "3fa1f36e-2b3b-4dea-ac8c-59b8bb7259c4",
   "metadata": {},
   "source": [
    ":- Takes 'cls' as the first parameter.\n",
    ":- It can only access class-level attributes.\n",
    ":- It called on the class itself or an instance but works on class-level data.\n",
    ":- class methods are used to perform actions related to the class."
   ]
  },
  {
   "cell_type": "markdown",
   "id": "229246e7-0702-4abb-affb-2cbf12e9ff5b",
   "metadata": {},
   "source": [
    "# Question-4. How does Python implement method overloading? Give an example."
   ]
  },
  {
   "cell_type": "raw",
   "id": "3973f1bc-bd99-477d-aa4f-e8f8acb62f26",
   "metadata": {},
   "source": [
    "Ans:-\n",
    ":- Two or more methods have the same name but different numbers of parameters or different types of parameters. These methods are called overloaded methods and this is called method overloading.\n",
    ":- Python does not directly support method overloading.\n",
    ":- We can define methods with default values for some parameters. This allows we to call the method with different numbers of arguments effectively implement overloading."
   ]
  },
  {
   "cell_type": "code",
   "execution_count": 57,
   "id": "c1b26c83-1800-493d-a8a3-209c41f3f60c",
   "metadata": {},
   "outputs": [],
   "source": [
    "#Example\n",
    "class Student:\n",
    "    def student(self):\n",
    "        print(\"Wecome to Data Science class\")\n",
    "    def student(self, name = \"\"):\n",
    "        print(\"Wecome to Data Science class\", name)\n",
    "    def student(self, name = \"\", Batch = \"\"):\n",
    "        print(\"Wecome to Data Science class\", name, Batch)\n"
   ]
  },
  {
   "cell_type": "code",
   "execution_count": 61,
   "id": "f2fbad1d-6690-4271-95ec-f430c6820e8d",
   "metadata": {},
   "outputs": [],
   "source": [
    "Stud_1 = Student()"
   ]
  },
  {
   "cell_type": "code",
   "execution_count": 62,
   "id": "5dce205e-6084-4425-a61e-cc6c8275da43",
   "metadata": {},
   "outputs": [
    {
     "name": "stdout",
     "output_type": "stream",
     "text": [
      "Wecome to Data Science class Lokanath \n"
     ]
    }
   ],
   "source": [
    "Stud_1.student(\"Lokanath\")"
   ]
  },
  {
   "cell_type": "code",
   "execution_count": 64,
   "id": "c61b31d8-9af9-4880-8c49-c36a7687a2dd",
   "metadata": {},
   "outputs": [
    {
     "name": "stdout",
     "output_type": "stream",
     "text": [
      "Wecome to Data Science class Huzaif Aug 2024\n"
     ]
    }
   ],
   "source": [
    "Stud_2 = Student()\n",
    "Stud_2.student(\"Huzaif\", \"Aug 2024\")"
   ]
  },
  {
   "cell_type": "markdown",
   "id": "648f52e2-f5c9-4ff4-b13c-d52f005a65c9",
   "metadata": {},
   "source": [
    "# Question-5. What are the three types of access modifiers in Python? How are they denoted?\n",
    "\n",
    "Ans:-  There are three types of access modifiers: public, protected, and private"
   ]
  },
  {
   "cell_type": "markdown",
   "id": "864ce12b-43f3-48d7-807b-e7ebb6a0f15d",
   "metadata": {},
   "source": [
    "## 1.Public Access modifier:\n",
    "All methods and variables of a class are public by default. Public members can be accessed from anywhere in the program. "
   ]
  },
  {
   "cell_type": "code",
   "execution_count": 2,
   "id": "bde71e9d-977c-4332-b0f2-8dfc5ed80dca",
   "metadata": {},
   "outputs": [],
   "source": [
    "#Example of public Access Modifier\n",
    "class Student:\n",
    "    def __init__(self, name, degree):\n",
    "        self.name = name\n",
    "        self.degree = degree\n",
    "        \n",
    "    def show(self):\n",
    "        #accessing the  public data member\n",
    "        print(\"name\", self.name, 'degree', self.degree)"
   ]
  },
  {
   "cell_type": "code",
   "execution_count": 3,
   "id": "e6594a7c-8873-4012-97a3-8c8ef7010400",
   "metadata": {},
   "outputs": [],
   "source": [
    "Student_1 = Student(\"Lokanath\", \"Bachlore\")"
   ]
  },
  {
   "cell_type": "code",
   "execution_count": 4,
   "id": "cdbe9709-4f62-48ef-beed-e4f7ec8841e9",
   "metadata": {},
   "outputs": [
    {
     "data": {
      "text/plain": [
       "'Lokanath'"
      ]
     },
     "execution_count": 4,
     "metadata": {},
     "output_type": "execute_result"
    }
   ],
   "source": [
    "Student_1.name"
   ]
  },
  {
   "cell_type": "code",
   "execution_count": 5,
   "id": "a57b0ecf-cca1-4546-b712-dbfc2d9564b0",
   "metadata": {},
   "outputs": [
    {
     "data": {
      "text/plain": [
       "'Bachlore'"
      ]
     },
     "execution_count": 5,
     "metadata": {},
     "output_type": "execute_result"
    }
   ],
   "source": [
    "Student_1.degree"
   ]
  },
  {
   "cell_type": "code",
   "execution_count": 19,
   "id": "96b78624-8e50-4afe-beb4-e18e3e9369dd",
   "metadata": {},
   "outputs": [
    {
     "name": "stdout",
     "output_type": "stream",
     "text": [
      "name Lokanath degree Bachlore\n"
     ]
    }
   ],
   "source": [
    "Student_1.show()"
   ]
  },
  {
   "cell_type": "code",
   "execution_count": 39,
   "id": "f3ef1d6c-5e29-4528-b6c5-3df8624bbaac",
   "metadata": {},
   "outputs": [],
   "source": [
    "Student_1.name = \"Ajay\""
   ]
  },
  {
   "cell_type": "code",
   "execution_count": 36,
   "id": "4160081c-d587-4d11-8277-9b85960e43f3",
   "metadata": {},
   "outputs": [],
   "source": [
    "Student_1.degree = \"Masters\""
   ]
  },
  {
   "cell_type": "code",
   "execution_count": 40,
   "id": "76fb5470-6a46-4ce3-81ab-a613e0e0fa85",
   "metadata": {},
   "outputs": [
    {
     "data": {
      "text/plain": [
       "'Ajay'"
      ]
     },
     "execution_count": 40,
     "metadata": {},
     "output_type": "execute_result"
    }
   ],
   "source": [
    "Student_1.name"
   ]
  },
  {
   "cell_type": "code",
   "execution_count": 43,
   "id": "18cdd8ae-e808-4e89-97a4-fd956fd51010",
   "metadata": {},
   "outputs": [
    {
     "data": {
      "text/plain": [
       "'Masters'"
      ]
     },
     "execution_count": 43,
     "metadata": {},
     "output_type": "execute_result"
    }
   ],
   "source": [
    "Student_1.degree"
   ]
  },
  {
   "cell_type": "markdown",
   "id": "34eb6d06-1e36-4e42-8904-f5841789a8a3",
   "metadata": {},
   "source": [
    "## 2. Private Access modifier:\n",
    "Private Access modifier are denoted by a double underscore (__). They are intended to be used internally by the class and are not accessible from outside the class. "
   ]
  },
  {
   "cell_type": "code",
   "execution_count": 53,
   "id": "5b2334ed-e698-4fc0-97f0-182284d247cd",
   "metadata": {},
   "outputs": [],
   "source": [
    "class Student:\n",
    "    def __init__(self, name, degree):\n",
    "        self.name = name\n",
    "        self.__degree = degree #private data\n",
    "        \n",
    "    def show(self):\n",
    "        print(\"name\", self.name, 'degree', self.__degree)"
   ]
  },
  {
   "cell_type": "code",
   "execution_count": 57,
   "id": "4aac1178-d69c-4cb9-a535-e22b68299e61",
   "metadata": {},
   "outputs": [],
   "source": [
    "Student_2 = Student(\"Lokanath\", \"Bachlore\")"
   ]
  },
  {
   "cell_type": "code",
   "execution_count": 59,
   "id": "6caa82e2-16d4-445e-aa23-809df2858ef3",
   "metadata": {},
   "outputs": [
    {
     "data": {
      "text/plain": [
       "'Lokanath'"
      ]
     },
     "execution_count": 59,
     "metadata": {},
     "output_type": "execute_result"
    }
   ],
   "source": [
    "Student_2.name"
   ]
  },
  {
   "cell_type": "code",
   "execution_count": 60,
   "id": "dfd07dd0-7300-4959-b84c-17d38aefba6c",
   "metadata": {},
   "outputs": [
    {
     "name": "stdout",
     "output_type": "stream",
     "text": [
      "name Lokanath degree Bachlore\n"
     ]
    }
   ],
   "source": [
    "Student_2.show()"
   ]
  },
  {
   "cell_type": "code",
   "execution_count": 61,
   "id": "73320828-e760-4df1-8a68-5e11091f0073",
   "metadata": {},
   "outputs": [
    {
     "ename": "AttributeError",
     "evalue": "'Student' object has no attribute 'degree'",
     "output_type": "error",
     "traceback": [
      "\u001b[0;31m---------------------------------------------------------------------------\u001b[0m",
      "\u001b[0;31mAttributeError\u001b[0m                            Traceback (most recent call last)",
      "Cell \u001b[0;32mIn[61], line 1\u001b[0m\n\u001b[0;32m----> 1\u001b[0m \u001b[43mStudent_2\u001b[49m\u001b[38;5;241;43m.\u001b[39;49m\u001b[43mdegree\u001b[49m\n",
      "\u001b[0;31mAttributeError\u001b[0m: 'Student' object has no attribute 'degree'"
     ]
    }
   ],
   "source": [
    "Student_2.degree"
   ]
  },
  {
   "cell_type": "code",
   "execution_count": 62,
   "id": "c6ab0230-9e1d-48ba-aa95-17bdfbab61ed",
   "metadata": {},
   "outputs": [
    {
     "data": {
      "text/plain": [
       "'Bachlore'"
      ]
     },
     "execution_count": 62,
     "metadata": {},
     "output_type": "execute_result"
    }
   ],
   "source": [
    "Student_2._Student__degree # this is the syntax we access private data "
   ]
  },
  {
   "cell_type": "markdown",
   "id": "28b66bba-52c3-4121-bc86-b028d368cdb2",
   "metadata": {},
   "source": [
    "## 3. Protected Access Modifier:\n",
    "Protected members are denoted by a single underscore (_). They are used internally by the class and its subclasses."
   ]
  },
  {
   "cell_type": "code",
   "execution_count": 72,
   "id": "557b3487-5c54-4f34-9302-5379871dbf0a",
   "metadata": {},
   "outputs": [],
   "source": [
    "#Example of Protected Access Modifier\n",
    "class Course:\n",
    "    def __init__(self):\n",
    "        self._Course_name = \"Data Science\"\n",
    "class Student(Course):\n",
    "    def __init__(self, name):\n",
    "        self.name = name\n",
    "        Course.__init__(self) #accesing variable of base class>>classname__init__(self)\n",
    "        \n",
    "    def show(self):\n",
    "        print(\"name\", self.name, \"Course\", self._Course_name)"
   ]
  },
  {
   "cell_type": "code",
   "execution_count": 73,
   "id": "a021b204-3e75-453f-81da-1b2124b01ede",
   "metadata": {},
   "outputs": [],
   "source": [
    "Student_3 = Student(\"Lokanath\")"
   ]
  },
  {
   "cell_type": "code",
   "execution_count": 74,
   "id": "35795ec6-63e8-4c49-b8e1-087a76d03b65",
   "metadata": {},
   "outputs": [
    {
     "data": {
      "text/plain": [
       "'Lokanath'"
      ]
     },
     "execution_count": 74,
     "metadata": {},
     "output_type": "execute_result"
    }
   ],
   "source": [
    "Student_3.name"
   ]
  },
  {
   "cell_type": "code",
   "execution_count": 75,
   "id": "4dc400b3-c001-471d-b107-df9be5906a22",
   "metadata": {},
   "outputs": [
    {
     "name": "stdout",
     "output_type": "stream",
     "text": [
      "name Lokanath Course Data Science\n"
     ]
    }
   ],
   "source": [
    "Student_3.show()"
   ]
  },
  {
   "cell_type": "code",
   "execution_count": 80,
   "id": "968d7a75-a40c-451f-af69-8b726d920229",
   "metadata": {},
   "outputs": [
    {
     "data": {
      "text/plain": [
       "'Data Science'"
      ]
     },
     "execution_count": 80,
     "metadata": {},
     "output_type": "execute_result"
    }
   ],
   "source": [
    "Student_3._Course_name #this is the syntax (variable._function) accessing the protected variable"
   ]
  },
  {
   "cell_type": "markdown",
   "id": "b564cedc-3d93-48a5-8f21-f237a082dfb3",
   "metadata": {},
   "source": [
    "# Question-6. Describe the five types of inheritance in Python. Provide a simple example of multiple inheritance."
   ]
  },
  {
   "cell_type": "markdown",
   "id": "b86ce40c-bb0b-46b2-a44f-e4d5d33958ec",
   "metadata": {},
   "source": [
    "## 1. Single Inheritance:\n",
    "A child class inherits from a single parent class. The child class inherits all the attributes and methods of the parent class."
   ]
  },
  {
   "cell_type": "code",
   "execution_count": 81,
   "id": "02b8f873-c02e-4522-b5cf-fd31c72c456c",
   "metadata": {},
   "outputs": [],
   "source": [
    "class State:\n",
    "    def State_area(self):\n",
    "        print(\"This is a State\")\n",
    "        \n",
    "class Dist(State):\n",
    "    def Dist_area(self):\n",
    "        print(\"This is the area of a dist\")"
   ]
  },
  {
   "cell_type": "code",
   "execution_count": 82,
   "id": "6d3730da-12da-414d-9faa-adc9f69ca5cf",
   "metadata": {},
   "outputs": [],
   "source": [
    "puri = Dist()"
   ]
  },
  {
   "cell_type": "code",
   "execution_count": 84,
   "id": "39524a63-1450-4098-bb15-d95b877508f9",
   "metadata": {},
   "outputs": [
    {
     "name": "stdout",
     "output_type": "stream",
     "text": [
      "This is the area of a dist\n"
     ]
    }
   ],
   "source": [
    "puri.Dist_area()"
   ]
  },
  {
   "cell_type": "code",
   "execution_count": 85,
   "id": "9c8ccec0-303c-4e9c-81d7-5f076a490127",
   "metadata": {},
   "outputs": [
    {
     "name": "stdout",
     "output_type": "stream",
     "text": [
      "This is a State\n"
     ]
    }
   ],
   "source": [
    "puri.State_area()"
   ]
  },
  {
   "cell_type": "code",
   "execution_count": 86,
   "id": "bbb87a21-2290-4e51-8000-096cd534d212",
   "metadata": {},
   "outputs": [],
   "source": [
    "odisha = State()"
   ]
  },
  {
   "cell_type": "code",
   "execution_count": 88,
   "id": "328173dd-167a-45d6-bd2a-d84d33c7d276",
   "metadata": {},
   "outputs": [
    {
     "name": "stdout",
     "output_type": "stream",
     "text": [
      "This is a State\n"
     ]
    }
   ],
   "source": [
    "odisha.State_area()"
   ]
  },
  {
   "cell_type": "code",
   "execution_count": 89,
   "id": "dee3a935-428f-43c6-abe7-9a2ff2ea88f4",
   "metadata": {},
   "outputs": [
    {
     "ename": "AttributeError",
     "evalue": "'State' object has no attribute 'Dist_area'",
     "output_type": "error",
     "traceback": [
      "\u001b[0;31m---------------------------------------------------------------------------\u001b[0m",
      "\u001b[0;31mAttributeError\u001b[0m                            Traceback (most recent call last)",
      "Cell \u001b[0;32mIn[89], line 1\u001b[0m\n\u001b[0;32m----> 1\u001b[0m \u001b[43modisha\u001b[49m\u001b[38;5;241;43m.\u001b[39;49m\u001b[43mDist_area\u001b[49m()\n",
      "\u001b[0;31mAttributeError\u001b[0m: 'State' object has no attribute 'Dist_area'"
     ]
    }
   ],
   "source": [
    "odisha.Dist_area()"
   ]
  },
  {
   "cell_type": "markdown",
   "id": "5b275e7d-443f-4866-864b-662a11d732f3",
   "metadata": {},
   "source": [
    "## 2.Multilevel Inheritance:\n",
    " a child class inherits from a parent class, which in turn inherits from another parent class."
   ]
  },
  {
   "cell_type": "code",
   "execution_count": 105,
   "id": "2318f1fd-a299-4227-8844-425742fbe6f5",
   "metadata": {},
   "outputs": [],
   "source": [
    "#Example of Multilevel Inheritance\n",
    "class Fruit:\n",
    "    def fruit_info(self):\n",
    "        print(\"Inside the class Fruit\")\n",
    "class Apple(Fruit):\n",
    "    def apple_info(self):\n",
    "        print(\"Inside the class Apple\")\n",
    "class Banana(Apple):\n",
    "    def banana_info(self):\n",
    "        print(\"Inside the class Banana\")"
   ]
  },
  {
   "cell_type": "code",
   "execution_count": 106,
   "id": "f8d6c846-6ba4-402b-8c31-4bd9eb16d666",
   "metadata": {},
   "outputs": [],
   "source": [
    "obj_1 = Banana()"
   ]
  },
  {
   "cell_type": "code",
   "execution_count": 109,
   "id": "2ad002fc-e92c-4dbd-9bed-1791d7275c6a",
   "metadata": {},
   "outputs": [
    {
     "name": "stdout",
     "output_type": "stream",
     "text": [
      "Inside the class Fruit\n"
     ]
    }
   ],
   "source": [
    "obj_1.fruit_info()"
   ]
  },
  {
   "cell_type": "code",
   "execution_count": 111,
   "id": "6da6cf98-dae6-46a8-a070-7522524aa3fa",
   "metadata": {},
   "outputs": [
    {
     "name": "stdout",
     "output_type": "stream",
     "text": [
      "Inside the class Apple\n"
     ]
    }
   ],
   "source": [
    "obj_1.apple_info()"
   ]
  },
  {
   "cell_type": "code",
   "execution_count": 112,
   "id": "25500185-22cc-40fa-b14f-93c1d792b717",
   "metadata": {},
   "outputs": [
    {
     "name": "stdout",
     "output_type": "stream",
     "text": [
      "Inside the class Banana\n"
     ]
    }
   ],
   "source": [
    "obj_1.banana_info()"
   ]
  },
  {
   "cell_type": "markdown",
   "id": "dc352627-fa7d-4dfd-ac85-d879c5b61a5b",
   "metadata": {},
   "source": [
    "## 3.Multiple Inheritance:\n",
    "A child class can inherit from more than one parent class. This allows the child class to inherit attributes and methods from multiple parents."
   ]
  },
  {
   "cell_type": "code",
   "execution_count": 113,
   "id": "974092a9-f214-4c1e-8cf4-94c556470db6",
   "metadata": {},
   "outputs": [],
   "source": [
    "#Example of a Multiple Inheritance\n",
    "class Veg_Food:\n",
    "    def Veg_food_info(self):\n",
    "        print(\"This is your Veg Food Info\")\n",
    "class Nonveg_Food:\n",
    "    def Nonvage_food_info(self):\n",
    "        print(\"This is your Non-Veg Food Info\")\n",
    "class Food(Veg_Food, Nonveg_Food):\n",
    "    def Food_info(self):\n",
    "        print(\"This is your Food info from vag_info and Non-veg_info\")"
   ]
  },
  {
   "cell_type": "code",
   "execution_count": 114,
   "id": "7c268efc-b1b5-47ea-b9a8-3bce474fa9bd",
   "metadata": {},
   "outputs": [],
   "source": [
    "Item = Food()"
   ]
  },
  {
   "cell_type": "code",
   "execution_count": 115,
   "id": "c3d8e8ee-aeb5-4538-b437-aefd26645166",
   "metadata": {},
   "outputs": [
    {
     "name": "stdout",
     "output_type": "stream",
     "text": [
      "This is your Food info from vag_info and Non-veg_info\n"
     ]
    }
   ],
   "source": [
    "Item.Food_info()"
   ]
  },
  {
   "cell_type": "code",
   "execution_count": 116,
   "id": "cc0076e4-8254-4481-804e-c53cb614a247",
   "metadata": {},
   "outputs": [
    {
     "name": "stdout",
     "output_type": "stream",
     "text": [
      "This is your Non-Veg Food Info\n"
     ]
    }
   ],
   "source": [
    "Item.Nonvage_food_info()"
   ]
  },
  {
   "cell_type": "code",
   "execution_count": 117,
   "id": "03d007f3-b646-40d3-912b-1d575862f603",
   "metadata": {},
   "outputs": [
    {
     "name": "stdout",
     "output_type": "stream",
     "text": [
      "This is your Veg Food Info\n"
     ]
    }
   ],
   "source": [
    "Item.Veg_food_info()"
   ]
  },
  {
   "cell_type": "markdown",
   "id": "600412b6-5e8e-47b3-9662-eecc85fd0ad6",
   "metadata": {},
   "source": [
    "## 4. Hierarchical Inheritance:\n",
    "multiple child classes inherit from a single parent class."
   ]
  },
  {
   "cell_type": "code",
   "execution_count": 118,
   "id": "9c3573e3-c1a5-4fc8-b3f9-3590d885889b",
   "metadata": {},
   "outputs": [],
   "source": [
    "class Vechile:\n",
    "    def Vechile_info(self):\n",
    "        print(\"Thos is your Vechile Section\")\n",
    "class Car(Vechile):\n",
    "    def Car_info(self):\n",
    "        print(\"This is your car Info\")\n",
    "class Truck(Vechile):\n",
    "    def Truck_info(self):\n",
    "        print(\"This is your Truck info\")\n",
    "class Road(Car, Truck):\n",
    "    def Road_Vechile(self):\n",
    "        print(\"this is Your Road vechile\")"
   ]
  },
  {
   "cell_type": "code",
   "execution_count": 119,
   "id": "1f0cf5fb-2b7b-40dc-8f40-5069f34ca87c",
   "metadata": {},
   "outputs": [],
   "source": [
    "Vechile_1 = Road()"
   ]
  },
  {
   "cell_type": "code",
   "execution_count": 121,
   "id": "7866f962-3ccf-4810-8e88-99441a8d4b6d",
   "metadata": {},
   "outputs": [
    {
     "name": "stdout",
     "output_type": "stream",
     "text": [
      "Thos is your Vechile Section\n"
     ]
    }
   ],
   "source": [
    "Vechile_1.Vechile_info()"
   ]
  },
  {
   "cell_type": "code",
   "execution_count": 122,
   "id": "9ab99fbc-014c-4429-b050-e4dcf35c2066",
   "metadata": {},
   "outputs": [
    {
     "name": "stdout",
     "output_type": "stream",
     "text": [
      "This is your Truck info\n"
     ]
    }
   ],
   "source": [
    "Vechile_1.Truck_info()"
   ]
  },
  {
   "cell_type": "code",
   "execution_count": 123,
   "id": "9a1c3dc3-6c1e-446d-a920-b8c9ed96eca4",
   "metadata": {},
   "outputs": [
    {
     "name": "stdout",
     "output_type": "stream",
     "text": [
      "This is your car Info\n"
     ]
    }
   ],
   "source": [
    "Vechile_1.Car_info()"
   ]
  },
  {
   "cell_type": "code",
   "execution_count": 124,
   "id": "c25b6d25-7e4b-4f28-85f0-86ebc7e90bac",
   "metadata": {},
   "outputs": [
    {
     "name": "stdout",
     "output_type": "stream",
     "text": [
      "this is Your Road vechile\n"
     ]
    }
   ],
   "source": [
    "Vechile_1.Road_Vechile()"
   ]
  },
  {
   "cell_type": "markdown",
   "id": "187b9ce9-1a52-44c9-bf95-e13a286ff339",
   "metadata": {},
   "source": [
    "## 5. Hybrid Inheritance:\n",
    "a combination of multiple and multilevel inheritance is used."
   ]
  },
  {
   "cell_type": "code",
   "execution_count": 126,
   "id": "c95539d3-13af-40c1-92e1-84a60bf914d3",
   "metadata": {},
   "outputs": [],
   "source": [
    "class Vehicle:\n",
    "    def vehicle_info(self):\n",
    "        print(\"Inside the vehicle class\")\n",
    "        \n",
    "class Car(Vehicle):\n",
    "    def car_info(self):\n",
    "        print(\"Inside the car class\")\n",
    "        \n",
    "class Truck(Vehicle):\n",
    "    def truck_info(self, name):\n",
    "        print(\"Inside truck info\", name)\n",
    "        \n",
    "class SportsCar(Car, Vehicle):\n",
    "    def sports_info(self):\n",
    "        print(\"Inside sports car class\")"
   ]
  },
  {
   "cell_type": "code",
   "execution_count": 127,
   "id": "6ba92ee2-efbc-48f7-92cd-44095aa4f75e",
   "metadata": {},
   "outputs": [
    {
     "name": "stdout",
     "output_type": "stream",
     "text": [
      "Inside the car class\n"
     ]
    }
   ],
   "source": [
    "obj1 = SportsCar()\n",
    "obj1.car_info()"
   ]
  },
  {
   "cell_type": "markdown",
   "id": "2f2768af-06c1-49f9-a0ae-7f403b3276ae",
   "metadata": {},
   "source": [
    "# Question-7.What is the Method Resolution Order (MRO) in Python? How can you retrieve it programmatically?"
   ]
  },
  {
   "cell_type": "markdown",
   "id": "d8e4d421-02b0-4d2d-a042-aeba85f4eed4",
   "metadata": {},
   "source": [
    "MRO stands for Method Resolution Order. It is a fundamental concept in object-oriented programming (OOP).that helps we to determine which method to call when multiple classes in an inheritance class have methods with the same name."
   ]
  },
  {
   "cell_type": "code",
   "execution_count": 2,
   "id": "d340e87c-1af6-4a47-9ca6-2c21473fda27",
   "metadata": {},
   "outputs": [],
   "source": [
    "class A:\n",
    "    def method(self):\n",
    "        print(\"Method of class A\")\n",
    "class B(A):\n",
    "    def method(self):\n",
    "        print(\"Method of class B\")\n",
    "class C(A):\n",
    "    def method(self):\n",
    "        print(\"Method of class C\")\n",
    "class D(B, C):\n",
    "    pass"
   ]
  },
  {
   "cell_type": "code",
   "execution_count": 4,
   "id": "dff1a03a",
   "metadata": {},
   "outputs": [
    {
     "name": "stdout",
     "output_type": "stream",
     "text": [
      "[<class '__main__.D'>, <class '__main__.B'>, <class '__main__.C'>, <class '__main__.A'>, <class 'object'>]\n"
     ]
    }
   ],
   "source": [
    "print(D.mro())"
   ]
  },
  {
   "cell_type": "markdown",
   "id": "4daa6584-6458-4206-b1c0-eaabb26af4e5",
   "metadata": {},
   "source": [
    "# Question-8. Create an abstract base class 'Shape' with an abstract method 'area()'. Then create two subclasses 'Circle' and Rectangle' that implement the 'area()' method."
   ]
  },
  {
   "cell_type": "code",
   "execution_count": 3,
   "id": "1e866bfd-aec0-47d6-9afd-beb8c60b5f5a",
   "metadata": {},
   "outputs": [],
   "source": [
    "import abc\n",
    "#Base class Shape\n",
    "class Shape:\n",
    "    @abc.abstractmethod\n",
    "    def calculate_area(self):\n",
    "        pass\n",
    "# Subclass Circle    \n",
    "\n",
    "class Circle(Shape):\n",
    "    def __init__(self, radius):\n",
    "        self.radius = radius\n",
    "\n",
    "    def Circle_area(self):\n",
    "        return 3.14 * self.radius * self.radius\n",
    "#Subclass Rectangle\n",
    "    \n",
    "class Rectangle(Shape):\n",
    "    def __init__(self, width, height):\n",
    "        self.width = width\n",
    "        self.height = height\n",
    "        \n",
    "    def Rectangle_area(self):\n",
    "        return self.width * self.height"
   ]
  },
  {
   "cell_type": "code",
   "execution_count": 4,
   "id": "a6b99b43-c20b-4a8c-8664-a0baf086f86c",
   "metadata": {},
   "outputs": [],
   "source": [
    "Cir_1 = Circle(15)"
   ]
  },
  {
   "cell_type": "code",
   "execution_count": 5,
   "id": "d6f61dfa-d759-4d66-b2fe-19c221eb7cdf",
   "metadata": {},
   "outputs": [
    {
     "data": {
      "text/plain": [
       "706.5"
      ]
     },
     "execution_count": 5,
     "metadata": {},
     "output_type": "execute_result"
    }
   ],
   "source": [
    "Cir_1.Circle_area()"
   ]
  },
  {
   "cell_type": "code",
   "execution_count": 6,
   "id": "cc8e0d30-4a5e-4a87-8e8a-96c7c8d660b2",
   "metadata": {},
   "outputs": [],
   "source": [
    "Rect_1 = Rectangle(12, 15)"
   ]
  },
  {
   "cell_type": "code",
   "execution_count": 7,
   "id": "121d96cd-527a-4521-b124-0a59aef3b866",
   "metadata": {},
   "outputs": [
    {
     "data": {
      "text/plain": [
       "180"
      ]
     },
     "execution_count": 7,
     "metadata": {},
     "output_type": "execute_result"
    }
   ],
   "source": [
    "Rect_1.Rectangle_area()"
   ]
  },
  {
   "cell_type": "markdown",
   "id": "c2e83e84-2f58-4e79-a799-40fc467cff2a",
   "metadata": {},
   "source": [
    "# Question -9. Demonstrate polymorphism by creating a function that can work with different shape objects to calculate and print their areas."
   ]
  },
  {
   "cell_type": "code",
   "execution_count": 8,
   "id": "8991a0b8-bb44-43a5-aa5d-55d68a718ea5",
   "metadata": {},
   "outputs": [],
   "source": [
    "class Shape:\n",
    "    def area(self):\n",
    "        pass\n",
    "\n",
    "class Circle(Shape):\n",
    "    def __init__(self, radius):\n",
    "        self.radius = radius\n",
    "\n",
    "    def area(self):\n",
    "        return 3.14 * (self.radius ** 2)\n",
    "\n",
    "class Rectangle(Shape):\n",
    "    def __init__(self, width, height):\n",
    "        self.width = width\n",
    "        self.height = height\n",
    "\n",
    "    def area(self):\n",
    "        return self.width * self.height\n",
    "\n",
    "def calculate_and_print_area(shape):\n",
    "    area = shape.area()\n",
    "    print(f\"The area of the shape is: {area}\")"
   ]
  },
  {
   "cell_type": "code",
   "execution_count": 9,
   "id": "ea01ff57-ad25-4750-aa68-a5b4dd53aaaf",
   "metadata": {},
   "outputs": [],
   "source": [
    "Cir_2 = Circle(12)"
   ]
  },
  {
   "cell_type": "code",
   "execution_count": 10,
   "id": "e6fc848b-7018-4e70-a49d-ab488c339247",
   "metadata": {},
   "outputs": [
    {
     "name": "stdout",
     "output_type": "stream",
     "text": [
      "The area of the shape is: 452.16\n"
     ]
    }
   ],
   "source": [
    "calculate_and_print_area(Cir_2)"
   ]
  },
  {
   "cell_type": "markdown",
   "id": "099fdc5a-41ae-465a-b467-018b1c2c3cf8",
   "metadata": {},
   "source": [
    "# Question-10. Implement encapsulation in a 'BankAccount' class with private attributes for 'balance' and 'account_number'. Include methods for deposit, withdrawal, and balance inquiry."
   ]
  },
  {
   "cell_type": "code",
   "execution_count": 11,
   "id": "7cb99dff-631d-4927-abad-75166231ec40",
   "metadata": {},
   "outputs": [],
   "source": [
    "class Bank_Account:\n",
    "    def __init__(self, account_number, initial_balance=0):\n",
    "        self.__account_number = account_number\n",
    "        self.__balance = initial_balance\n",
    "\n",
    "    def deposit(self, amount):\n",
    "        self.__balance += amount\n",
    "        print(f\"You Are Deposited {amount} into account {self.__account_number}. Your Current balance is -: {self.__balance}\")\n",
    "\n",
    "    def withdraw(self, amount):\n",
    "        if amount > self.__balance:\n",
    "            print(\"Insufficient Fund To Withdraw\")\n",
    "        else:\n",
    "            self.__balance -= amount\n",
    "            print(f\"you Are Withdrew {amount} from account {self.__account_number}. Your Current balance is -: {self.__balance}\")\n",
    "\n",
    "    def get_balance(self):\n",
    "        return self.__balance\n",
    "\n",
    "    def get_account_number(self):\n",
    "        return self.__account_number"
   ]
  },
  {
   "cell_type": "code",
   "execution_count": 12,
   "id": "3a1411ad-86c5-427e-856b-fb252e1337c5",
   "metadata": {},
   "outputs": [],
   "source": [
    "my_account = Bank_Account(524158965525, 10000)"
   ]
  },
  {
   "cell_type": "code",
   "execution_count": 13,
   "id": "06f848cc-b67d-4331-b1c3-166319c6a79d",
   "metadata": {},
   "outputs": [
    {
     "data": {
      "text/plain": [
       "10000"
      ]
     },
     "execution_count": 13,
     "metadata": {},
     "output_type": "execute_result"
    }
   ],
   "source": [
    "my_account.get_balance()"
   ]
  },
  {
   "cell_type": "code",
   "execution_count": 14,
   "id": "de393215-8921-4ba0-a439-87d3ec6e01ab",
   "metadata": {},
   "outputs": [
    {
     "data": {
      "text/plain": [
       "524158965525"
      ]
     },
     "execution_count": 14,
     "metadata": {},
     "output_type": "execute_result"
    }
   ],
   "source": [
    "my_account.get_account_number()"
   ]
  },
  {
   "cell_type": "code",
   "execution_count": 15,
   "id": "bddbbc8b-3fca-4244-85aa-4fdd5c5f73d2",
   "metadata": {},
   "outputs": [
    {
     "name": "stdout",
     "output_type": "stream",
     "text": [
      "You Are Deposited 5845 into account 524158965525. Your Current balance is -: 15845\n"
     ]
    }
   ],
   "source": [
    "my_account.deposit(5845)"
   ]
  },
  {
   "cell_type": "code",
   "execution_count": 16,
   "id": "03e95f8d-c1b6-4105-ba53-9d8ed9458c19",
   "metadata": {},
   "outputs": [
    {
     "name": "stdout",
     "output_type": "stream",
     "text": [
      "you Are Withdrew 599 from account 524158965525. Your Current balance is -: 15246\n"
     ]
    }
   ],
   "source": [
    "my_account.withdraw(599)"
   ]
  },
  {
   "cell_type": "markdown",
   "id": "a08de65d-5ed3-40fa-9833-9ebf77392b81",
   "metadata": {},
   "source": [
    "# Question- 11. Write a class that overrides the '__str__' and '__add__' magic methods. What will these methods allow you to do?"
   ]
  },
  {
   "cell_type": "markdown",
   "id": "7c9d88c1-d6c1-43d4-ae95-e8154056a9ce",
   "metadata": {},
   "source": [
    "Ans:-\n",
    "Magic methods are special methods that you can define in your classes to add additional functionality. Two commonly used magic methods are __str__ and __add__."
   ]
  },
  {
   "cell_type": "code",
   "execution_count": 17,
   "id": "71546261-f861-4104-8109-e48e4b39d8c7",
   "metadata": {},
   "outputs": [],
   "source": [
    "class method:\n",
    "    def __init__(self, x, y):\n",
    "        self.x = x\n",
    "        self.y = y\n",
    "\n",
    "    def __str__(self):\n",
    "        return x , y\n",
    "\n",
    "    def __add__(self, other):\n",
    "        return method(self.x + other.x, self.y + other.y)"
   ]
  },
  {
   "cell_type": "code",
   "execution_count": 18,
   "id": "705e565c-d533-4a79-8425-af1eb1bb9b20",
   "metadata": {},
   "outputs": [],
   "source": [
    "Method_1 = method(12, 15)\n",
    "Method_2 = method(18, 21)"
   ]
  },
  {
   "cell_type": "code",
   "execution_count": 19,
   "id": "de008b45-a28a-4569-93cf-0b2df4c9b7da",
   "metadata": {},
   "outputs": [],
   "source": [
    "Method_3 = Method_1 + Method_2"
   ]
  },
  {
   "cell_type": "code",
   "execution_count": 20,
   "id": "6ee33ac4-adac-4a54-a970-e658967656f6",
   "metadata": {},
   "outputs": [
    {
     "name": "stdout",
     "output_type": "stream",
     "text": [
      "30 36\n"
     ]
    }
   ],
   "source": [
    "print(Method_3.x , Method_3.y)"
   ]
  },
  {
   "cell_type": "markdown",
   "id": "7df12934-aab5-42a4-97a6-bb2d20fe35a7",
   "metadata": {},
   "source": [
    "## What these methods allow we to do:\n",
    "\n",
    "### 1. __str__: It allows we to customize how your objects are printed and making them more readable.\n",
    "\n",
    "### 2. __add__: It allows we to define custom addition behavior between instances of our class, enabling the use of the + operator."
   ]
  },
  {
   "cell_type": "markdown",
   "id": "cf04db08-eb7e-40de-8495-4a519f5744e0",
   "metadata": {},
   "source": [
    "# Question.12. Create a decorator that measures and prints the execution time of a function"
   ]
  },
  {
   "cell_type": "code",
   "execution_count": 21,
   "id": "02a600f9-0475-4e5e-97f4-8b4c22c8c5d2",
   "metadata": {},
   "outputs": [],
   "source": [
    "import time\n",
    "def timer_measure(func):\n",
    "    def timer():\n",
    "        start = time.time()\n",
    "        func()\n",
    "        end = time.time()\n",
    "        print(\"The executing time of the code is :-\", end - start)\n",
    "    return timer"
   ]
  },
  {
   "cell_type": "code",
   "execution_count": 22,
   "id": "03034ca5-7bf6-4547-b9e2-6075162a564e",
   "metadata": {},
   "outputs": [],
   "source": [
    "@timer_measure\n",
    "def return_time():\n",
    "    print(1198457*15845)"
   ]
  },
  {
   "cell_type": "code",
   "execution_count": 23,
   "id": "7228a5ac-a1b7-46d4-9aca-3d8900757e9c",
   "metadata": {},
   "outputs": [
    {
     "name": "stdout",
     "output_type": "stream",
     "text": [
      "18989551165\n",
      "The executing time of the code is :- 0.008108139038085938\n"
     ]
    }
   ],
   "source": [
    "return_time()"
   ]
  },
  {
   "cell_type": "markdown",
   "id": "3bf8c23e-137f-4b13-a97d-7e33875766ea",
   "metadata": {},
   "source": [
    "# Question-13.Explain the concept of the Diamond Problem in multiple inheritance. How does Python resolve it?"
   ]
  },
  {
   "cell_type": "markdown",
   "id": "af15cb17-9b92-43d2-b1ca-0af77ea05ea5",
   "metadata": {},
   "source": [
    "## What is the Diamond Problem?\n",
    "Ans:-\n",
    "The Diamond Problem occurs when a class inherits from two parent classes that have a common base class. This creates a diamond-shaped inheritance graph."
   ]
  },
  {
   "cell_type": "code",
   "execution_count": null,
   "id": "3edc56e9-f117-4048-a86e-d85e64e3a48f",
   "metadata": {},
   "outputs": [],
   "source": []
  },
  {
   "cell_type": "code",
   "execution_count": 24,
   "id": "3a952e5b-250f-4535-b612-2d38bb630a3c",
   "metadata": {},
   "outputs": [],
   "source": [
    "#Example of Multiple inheritance in Dimond problem\n",
    "class Family:\n",
    "    def Family_Methode(self):\n",
    "        print(\"Family_Methode of Family class\")\n",
    "class Father(Family):\n",
    "    def Father_method(self):\n",
    "        print(\"Father_method of Father class \")\n",
    "class Mother(Family):\n",
    "    def Mother_method(self):\n",
    "        print(\"Mother_method of Mother class \")\n",
    "class Children(Father, Mother):\n",
    "    def Children_method(self):\n",
    "        print(\"Children_method of children class\")"
   ]
  },
  {
   "cell_type": "code",
   "execution_count": 25,
   "id": "aa2fc23b-fcf4-48ed-844e-d9fc90c0afaf",
   "metadata": {},
   "outputs": [],
   "source": [
    "Child_1 = Children()"
   ]
  },
  {
   "cell_type": "code",
   "execution_count": 26,
   "id": "992482d2-e917-4f6b-a24a-e7851d27bfaa",
   "metadata": {},
   "outputs": [
    {
     "name": "stdout",
     "output_type": "stream",
     "text": [
      "Children_method of children class\n"
     ]
    }
   ],
   "source": [
    "Child_1.Children_method()"
   ]
  },
  {
   "cell_type": "code",
   "execution_count": 27,
   "id": "1fd9cc09-fe27-4560-a2ab-d12d84b185d1",
   "metadata": {},
   "outputs": [
    {
     "name": "stdout",
     "output_type": "stream",
     "text": [
      "Family_Methode of Family class\n"
     ]
    }
   ],
   "source": [
    "Child_1.Family_Methode()"
   ]
  },
  {
   "cell_type": "markdown",
   "id": "320c2b8a-ad9b-48f7-be1e-7cfa4217f663",
   "metadata": {},
   "source": [
    "## How Python Resolves the Diamond Problem:"
   ]
  },
  {
   "cell_type": "raw",
   "id": "166004ba-e9d5-474f-a15e-51ae5a4cc4be",
   "metadata": {},
   "source": [
    ":- A class is searched before its parent class\n",
    ":- If a class has multiple parent class they are searched in the order they are listed in the class definition.\n",
    ":- If a parent class is already searched its parents are not searched again."
   ]
  },
  {
   "cell_type": "raw",
   "id": "0426e017-8ef5-4b2d-8cb2-5b16b612cbce",
   "metadata": {},
   "source": [
    "In My example, the class \"Children\" would be: children, mother, Father and Family\n",
    "\n",
    "When we call method() on an instance of Children, Python searches and finds the implementation in Mother, so it uses mother's method.\n",
    "\n",
    "The mro() method can be used to inspect the method resolution order of a class. That means the class that is inherited first in the derived class, that method will be called"
   ]
  },
  {
   "cell_type": "markdown",
   "id": "0cc465d2-07fe-401c-abe5-163b86ccc2cf",
   "metadata": {},
   "source": [
    "# Question-14. Write a class method that keeps track of the number of instances created from a class."
   ]
  },
  {
   "cell_type": "code",
   "execution_count": 28,
   "id": "80f4b672-f82f-4a3f-a04b-633e24d6a3a3",
   "metadata": {},
   "outputs": [],
   "source": [
    "class Student:\n",
    "    total_students = 0\n",
    "    def __init__(self, name):\n",
    "        self.name = name \n",
    "        Student.total_students = Student.total_students+1\n",
    "        \n",
    "    @classmethod\n",
    "    def get_total_students(cls):\n",
    "        return cls.total_students"
   ]
  },
  {
   "cell_type": "code",
   "execution_count": 29,
   "id": "e58e6c0d-bbdd-46b8-9d25-455fce4865ac",
   "metadata": {},
   "outputs": [],
   "source": [
    "Student_1 = Student(\"Lokanath\")"
   ]
  },
  {
   "cell_type": "code",
   "execution_count": 30,
   "id": "ed348057-af17-49e1-9ca6-016d4a5a1b4d",
   "metadata": {},
   "outputs": [
    {
     "data": {
      "text/plain": [
       "1"
      ]
     },
     "execution_count": 30,
     "metadata": {},
     "output_type": "execute_result"
    }
   ],
   "source": [
    "Student.get_total_students()"
   ]
  },
  {
   "cell_type": "code",
   "execution_count": 31,
   "id": "cdd4cb53-7c26-4636-bab8-91c237393b6b",
   "metadata": {},
   "outputs": [],
   "source": [
    "Student_2 = Student(\"Ajay\")\n",
    "Student_3 = Student(\"Huzaif\")\n",
    "Student_4 = Student(\"Bijay\")"
   ]
  },
  {
   "cell_type": "code",
   "execution_count": 32,
   "id": "05b61561-dbb5-417f-baaa-163e13242cd4",
   "metadata": {},
   "outputs": [
    {
     "data": {
      "text/plain": [
       "4"
      ]
     },
     "execution_count": 32,
     "metadata": {},
     "output_type": "execute_result"
    }
   ],
   "source": [
    "Student.get_total_students()"
   ]
  },
  {
   "cell_type": "markdown",
   "id": "21f1c194-b006-4825-8a12-639677817e2e",
   "metadata": {},
   "source": [
    "# Question- 15. Implement a static method in a class that checks if a given year is a leap year."
   ]
  },
  {
   "cell_type": "raw",
   "id": "c1a0df48-3497-44cb-8a8b-90a0289708a2",
   "metadata": {},
   "source": [
    "Some Rules are Followed by a leap year there are:-\n",
    ":- A year is a leap year if it is divisible by 4.\n",
    ":- if the year can be divided by 100 it is not a leap year.\n",
    ":- if the year can be divided by 400 it is a leap year even though it’s also divisible by 100."
   ]
  },
  {
   "cell_type": "code",
   "execution_count": 33,
   "id": "3d6f8199-92b5-417a-b5fb-37c987a22648",
   "metadata": {},
   "outputs": [],
   "source": [
    "class check_leap_year:\n",
    "    pass\n",
    "\n",
    "    @staticmethod\n",
    "    def leap_year(year):\n",
    "        if (year % 4 == 0 and year % 100 != 0) or (year % 400 == 0):\n",
    "            return True\n",
    "        return False"
   ]
  },
  {
   "cell_type": "code",
   "execution_count": 34,
   "id": "7f5881f9-5b07-4163-806c-0ad4f4e3756f",
   "metadata": {},
   "outputs": [
    {
     "data": {
      "text/plain": [
       "True"
      ]
     },
     "execution_count": 34,
     "metadata": {},
     "output_type": "execute_result"
    }
   ],
   "source": [
    "check_leap_year.leap_year(2020)"
   ]
  },
  {
   "cell_type": "code",
   "execution_count": 35,
   "id": "1b23e010-1b22-4281-ad52-7f7af5344df3",
   "metadata": {},
   "outputs": [
    {
     "data": {
      "text/plain": [
       "False"
      ]
     },
     "execution_count": 35,
     "metadata": {},
     "output_type": "execute_result"
    }
   ],
   "source": [
    "check_leap_year.leap_year(2021)"
   ]
  },
  {
   "cell_type": "code",
   "execution_count": 36,
   "id": "fc79200b-bcfb-4d29-892e-d649efa2e326",
   "metadata": {},
   "outputs": [
    {
     "data": {
      "text/plain": [
       "True"
      ]
     },
     "execution_count": 36,
     "metadata": {},
     "output_type": "execute_result"
    }
   ],
   "source": [
    "check_leap_year.leap_year(2000)"
   ]
  },
  {
   "cell_type": "code",
   "execution_count": null,
   "id": "1c17854e-500e-4f41-8bb1-14fcfdf2ead0",
   "metadata": {},
   "outputs": [],
   "source": []
  }
 ],
 "metadata": {
  "kernelspec": {
   "display_name": "Python 3 (ipykernel)",
   "language": "python",
   "name": "python3"
  },
  "language_info": {
   "codemirror_mode": {
    "name": "ipython",
    "version": 3
   },
   "file_extension": ".py",
   "mimetype": "text/x-python",
   "name": "python",
   "nbconvert_exporter": "python",
   "pygments_lexer": "ipython3",
   "version": "3.12.4"
  }
 },
 "nbformat": 4,
 "nbformat_minor": 5
}
