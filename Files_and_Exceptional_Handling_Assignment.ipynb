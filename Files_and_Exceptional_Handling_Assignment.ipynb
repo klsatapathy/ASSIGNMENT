{
 "cells": [
  {
   "cell_type": "markdown",
   "metadata": {},
   "source": [
    "# Question-1. Discuss the scenarios where multithreading is preferable to multiprocessing and scenarios where multiprocessing is a better choice."
   ]
  },
  {
   "cell_type": "markdown",
   "metadata": {},
   "source": [
    "Multithreading and multiprocessing are two approaches to achieve concurrency in programming but they have different use cases and advantages."
   ]
  },
  {
   "cell_type": "markdown",
   "metadata": {},
   "source": [
    "## Multithreading"
   ]
  },
  {
   "cell_type": "markdown",
   "metadata": {},
   "source": [
    "Multithreading is preferable in scenarios where the tasks involve a lot of input/output operations, waiting times, or require frequent context switching.\n"
   ]
  },
  {
   "cell_type": "markdown",
   "metadata": {},
   "source": [
    "There is some multithreading scenarios\n",
    "\n",
    "### 1.Input/outpt tasks: \n",
    "Multithreading is suitable for tasks that involve a lot of input/output operations, such as reading or writing files, Web servers, file downloaders, web scraping, and  This is because threads can wait for I/O operations to complete without blocking other threads."
   ]
  },
  {
   "cell_type": "markdown",
   "metadata": {},
   "source": [
    "### 2.Real time systems: \n",
    "Multithreading is suitable for real-time systems where tasks need to be executed within a specific time frame, and context switching is frequent."
   ]
  },
  {
   "cell_type": "markdown",
   "metadata": {},
   "source": [
    "### 3.CPU Core Limitations:\n",
    "If the program is running on a system with limited CPU cores, multithreading can offer an advantage by allowing multiple tasks to be executed \"in parallel\" within a single core using time slicing."
   ]
  },
  {
   "cell_type": "markdown",
   "metadata": {},
   "source": [
    "## Multiprocessing :-\n",
    "multiprocessing is a better choice in scenarios where the tasks are CPU-intensive, require a lot of memory, or need to be executed independently."
   ]
  },
  {
   "cell_type": "markdown",
   "metadata": {},
   "source": [
    "there are some multiprocessing scenarios\n",
    "\n",
    "### CPU-bound tasks:\n",
    "Multiprocessing is suitable for tasks that are CPU-intensive, such as scientific simulations, data compression, or encryption. This is because multiple processes can utilize multiple CPU cores to execute tasks in parallel."
   ]
  },
  {
   "cell_type": "markdown",
   "metadata": {},
   "source": [
    "### Memory-intensive tasks: \n",
    "Multiprocessing is useful for tasks that require a lot of memory, such as data processing or machine learning algorithms. This is because each process has its own memory space, and memory is not shared between processes."
   ]
  },
  {
   "cell_type": "markdown",
   "metadata": {},
   "source": [
    "### Independent tasks: \n",
    "Multiprocessing is suitable for tasks that need to be executed independently, such as running multiple instances of a program or executing tasks that do not share data."
   ]
  },
  {
   "cell_type": "markdown",
   "metadata": {},
   "source": []
  },
  {
   "cell_type": "markdown",
   "metadata": {},
   "source": [
    "Multithreading is suitable for IO-bound tasks, GUI applications, and real-time systems, while multiprocessing is suitable for CPU-bound tasks, memory-intensive tasks, and independent tasks."
   ]
  },
  {
   "cell_type": "code",
   "execution_count": 1,
   "metadata": {},
   "outputs": [
    {
     "name": "stdout",
     "output_type": "stream",
     "text": [
      "Workers work 0 started\n",
      "Workers work 1 started\n",
      "Workers work 2 started\n",
      "Workers work 3 started\n",
      "Workers work 4 started\n",
      "Workers work 0 finished\n",
      "Workers work 1 finished\n",
      "Workers work 2 finished\n",
      "Workers work 3 finished\n",
      "Workers work 4 finished\n",
      "The programme finished in 2 seconds \n"
     ]
    }
   ],
   "source": [
    "# Example of Multithreading\n",
    "import time\n",
    "import threading\n",
    "start = time.perf_counter()\n",
    "def worker(num):\n",
    "    print(f\"Workers work {num} started\")\n",
    "    time.sleep(2)\n",
    "    print(f\"Workers work {num} finished\")\n",
    "\n",
    "threads = []\n",
    "for i in range(5):\n",
    "    thread = threading.Thread(target=worker, args=(i,))\n",
    "    threads.append(thread)\n",
    "    thread.start()\n",
    "\n",
    "for thread in threads:\n",
    "    thread.join()\n",
    "\n",
    "end = time.perf_counter()\n",
    "\n",
    "print(f\"The programme finished in {round(end-start)} seconds \")"
   ]
  },
  {
   "cell_type": "code",
   "execution_count": null,
   "metadata": {},
   "outputs": [],
   "source": [
    "#Example of Multiprocessing\n",
    "import multiprocessing\n",
    "import time\n",
    "start = time.perf_counter()\n",
    "def square(num):\n",
    "    return num * num\n",
    "\n",
    "numbers = [1, 2, 3, 4, 5]\n",
    "\n",
    "with multiprocessing.Pool() as pool:\n",
    "    results = pool.map(square, numbers)\n",
    "\n",
    "end = time.perf_counter()\n",
    "\n",
    "print(f\"The programme finished in {round(end-start)} seconds and the result is:- {results}\")"
   ]
  },
  {
   "cell_type": "markdown",
   "metadata": {},
   "source": [
    "# Question -2. Describe what a process pool is and how it helps in managing multiple processes efficiently."
   ]
  },
  {
   "cell_type": "markdown",
   "metadata": {},
   "source": [
    "A process pool is a group of worker processes that can be used to execute tasks concurrently, allowing for efficient management of multiple processes. It's a high-level abstraction provided by the multiprocessing module in Python, which enables parallel execution of tasks by distributing them across multiple processes."
   ]
  },
  {
   "cell_type": "markdown",
   "metadata": {},
   "source": [
    "## Advantages of Process Pools:\n",
    "### Concurrency: \n",
    "Process pools allow multiple tasks to be executed concurrently, taking advantage of multiple CPU cores to speed up the execution time.\n",
    "### Efficient Resource Utilization: \n",
    "Process pools enable efficient use of system resources by reusing existing worker processes to execute tasks.\n",
    "### Simplified Task Management: \n",
    "Process pools provide a simple way to manage multiple tasks by submitting them to the pool which handles the execution and returns the results.\n",
    "### Improved Scalability: \n",
    "Process pools can be easily scaled up or down depending on the system resources and the number of tasks to be executed."
   ]
  },
  {
   "cell_type": "code",
   "execution_count": null,
   "metadata": {},
   "outputs": [],
   "source": [
    "import multiprocessing\n",
    "import time\n",
    "start = time.perf_counter()\n",
    "def cpu_bound_task(x):\n",
    "    result = 0\n",
    "    for i in range(10):\n",
    "        result += i\n",
    "    return result\n",
    "with multiprocessing.Pool(processes=5) as pool:\n",
    "    inputs = [1, 2, 3, 4, 5]\n",
    "    results = pool.map(cpu_bound_task, inputs)\n",
    "\n",
    "end = time.perf_counter()\n",
    "\n",
    "print(f\"The programme finished in {round(end-start)} seconds and the result is:- {results}\")"
   ]
  },
  {
   "cell_type": "markdown",
   "metadata": {},
   "source": [
    "# Question-3. Explain what multiprocessing is and why it is used in Python programs."
   ]
  },
  {
   "cell_type": "markdown",
   "metadata": {},
   "source": [
    "Multiprocessing is a technique is used in programming to achieve concurrency by executing multiple processes and improving the overall performance and efficiency of a program. In the context of Python, multiprocessing refers to the ability to run multiple Python processes in parallel."
   ]
  },
  {
   "cell_type": "markdown",
   "metadata": {},
   "source": [
    "Multiprocessing is used in Python programs for several reasons:\n",
    "### Concurrency: \n",
    "Multiprocessing allows Python programs to execute multiple tasks concurrently by taking advantage of multiple CPU cores to speed up the execution time.\n",
    "### Parallel: \n",
    "By executing multiple processes in parallel multiprocessing enables Python programs to perform tasks that would otherwise be executed sequentially, improving the overall performance and efficiency.\n",
    "### Scalability: \n",
    "Multiprocessing allows Python programs to scale up or down depending on the system's resources and the number of tasks to be executed.\n",
    "### Improved Responsiveness: \n",
    "By executing tasks in parallel, multiprocessing can improve the responsiveness of Python programs, making them more interactive and user-friendly."
   ]
  },
  {
   "cell_type": "markdown",
   "metadata": {},
   "source": [
    "# Question-4. Write a Python program using multithreading where one thread adds numbers to a list, and another thread removes numbers from the list.Implement a mechanism to avoid race conditions using threading.Lock."
   ]
  },
  {
   "cell_type": "code",
   "execution_count": 6,
   "metadata": {},
   "outputs": [
    {
     "name": "stdout",
     "output_type": "stream",
     "text": [
      "Added the number 0 to the list\n",
      "Removed 0 from the list\n",
      "Added the number 1 to the list\n",
      "Removed 1 from the list\n",
      "Added the number 2 to the list\n",
      "Removed 2 from the list\n",
      "Added the number 3 to the list\n",
      "Removed 3 from the list\n",
      "List is empty\n",
      "Added the number 4 to the list\n",
      "Removed 4 from the list\n",
      "Added the number 5 to the list\n",
      "Removed 5 from the list\n",
      "Added the number 6 to the list\n",
      "Removed 6 from the list\n",
      "Added the number 7 to the list\n",
      "Removed 7 from the list\n",
      "Added the number 8 to the list\n",
      "Removed 8 from the list\n",
      "Added the number 9 to the list\n",
      "The task is completed Successfully, The final list is:-[9] and the Execution time is:-10.0328043000045\n"
     ]
    }
   ],
   "source": [
    "import threading\n",
    "import time\n",
    "start = time.perf_counter()\n",
    "shared_list = []\n",
    "lock = threading.Lock()\n",
    "\n",
    "def add_numbers():\n",
    "    for i in range(10):\n",
    "        with lock:\n",
    "            shared_list.append(i)\n",
    "            print(f\"Added the number {i} to the list\")\n",
    "        time.sleep(1)\n",
    "\n",
    "def remove_numbers():\n",
    "    for i in range(10):\n",
    "        with lock:\n",
    "            if shared_list:\n",
    "                num = shared_list.pop(0)\n",
    "                print(f\"Removed {num} from the list\")\n",
    "            else:\n",
    "                print(\"List is empty\")\n",
    "        time.sleep(1)\n",
    "\n",
    "thread1 = threading.Thread(target=add_numbers)\n",
    "thread2 = threading.Thread(target=remove_numbers)\n",
    "\n",
    "thread1.start()\n",
    "thread2.start()\n",
    "\n",
    "thread1.join()\n",
    "thread2.join()\n",
    "end = time.perf_counter()\n",
    "print(f\"The task is completed Successfully, The final list is:-{shared_list} and the Execution time is:-{end - start}\")"
   ]
  },
  {
   "cell_type": "markdown",
   "metadata": {},
   "source": [
    "# Question-5. Describe the methods and tools available in Python for safely sharing data between threads and processes."
   ]
  },
  {
   "cell_type": "markdown",
   "metadata": {},
   "source": [
    "## Thread Data Sharing:\n",
    "\n",
    "### Locks (threading.Lock): \n",
    "Locks are used to protect shared resources from concurrent access by multiple threads. A lock can be acquired by a thread before accessing the shared resource and released after the access is complete.\n",
    "\n",
    "### Condition Variables (threading.Condition): \n",
    "Condition variables are used to synchronize threads based on a certain condition. A thread can wait on a condition variable until it is notified by another thread.\n",
    "### Queues (queue.Queue): \n",
    "Queues are used to share data between threads in a producer-consumer scenario. Threads can put data into the queue and other threads can get data from the queue."
   ]
  },
  {
   "cell_type": "markdown",
   "metadata": {},
   "source": [
    "## Process Data Sharing:\n",
    "\n",
    "### Queues (multiprocessing.Queue): \n",
    "Queues are used to share data between processes in a producer-consumer scenario. Processes can put data into the queue and other processes can get data from the queue.\n",
    "### Shared Memory (multiprocessing.Value, multiprocessing.Array): \n",
    "Shared memory is used to share data between processes. Processes can access the shared memory using the Value or Array classes.\n",
    "### concurrent.futures: \n",
    "The concurrent.futures module provides a high-level interface for parallelism and concurrency."
   ]
  },
  {
   "cell_type": "code",
   "execution_count": 7,
   "metadata": {},
   "outputs": [
    {
     "name": "stdout",
     "output_type": "stream",
     "text": [
      "the code is executed successfully the data is :- 0 and the execution time is 0.01014479999867035\n"
     ]
    }
   ],
   "source": [
    "#Example of using a threading.Lock in multithreading\n",
    "import threading\n",
    "import time\n",
    "start = time.perf_counter()\n",
    "shared_data = 0\n",
    "lock = threading.Lock()\n",
    "def increment_data():\n",
    "    global shared_data\n",
    "    with lock:\n",
    "        shared_data += 1\n",
    "\n",
    "def decrement_data():\n",
    "    global shared_data\n",
    "    with lock:\n",
    "        shared_data -= 1\n",
    "thread1 = threading.Thread(target=increment_data)\n",
    "thread2 = threading.Thread(target=decrement_data)\n",
    "thread1.start()\n",
    "thread2.start()\n",
    "\n",
    "thread1.join()\n",
    "thread2.join()\n",
    "end = time.perf_counter()\n",
    "print(f\"the code is executed successfully the data is :- {shared_data} and the execution time is {end - start}\")"
   ]
  },
  {
   "cell_type": "code",
   "execution_count": null,
   "metadata": {},
   "outputs": [],
   "source": [
    "#  Example of using a multiprocessing.Queue\n",
    "import multiprocessing\n",
    "\n",
    "def producer(queue):\n",
    "    queue.put(\"Hello\")\n",
    "\n",
    "def consumer(queue):\n",
    "    print(queue.get())\n",
    "\n",
    "queue = multiprocessing.Queue()\n",
    "\n",
    "process1 = multiprocessing.Process(target=producer, args=(queue,))\n",
    "process2 = multiprocessing.Process(target=consumer, args=(queue,))\n",
    "\n",
    "process1.start()\n",
    "process2.start()\n",
    "\n",
    "process1.join()\n",
    "process2.join()\n"
   ]
  },
  {
   "cell_type": "markdown",
   "metadata": {},
   "source": [
    "# Question-6. Discuss why it’s crucial to handle exceptions in concurrent programs and the techniques available for doing so."
   ]
  },
  {
   "cell_type": "markdown",
   "metadata": {},
   "source": [
    "There are some reason to Handle Exceptions in Concurrent Programs is curcial\n",
    "### Prevent Crashes: \n",
    "Unhandled exceptions can cause a program to crash and leading to data loss or corruption. By handling exceptions we can prevent crashes and ensure that our program remains stable.\n",
    "### Maintain Data Consistency: \n",
    "In concurrent program exceptions can lead to inconsistent data. By handling exceptions we can ensure that data remains consistent and accurate.\n",
    "### Improve Debugging: \n",
    "Handling exceptions can help we to identify and debug issues more easily. By catching and logging exceptions and we can gain valuable insights into what went wrong.\n",
    "### Enhance Security: \n",
    "Unhandled exceptions can expose sensitive information or create security vulnerabilities. By handling exceptions we can prevent these issues and ensure that our program remains secure."
   ]
  },
  {
   "cell_type": "markdown",
   "metadata": {},
   "source": [
    "## Techniques for Handling Exceptions in Concurrent Programs\n",
    "\n",
    "### Try-Except Blocks: \n",
    "Use try-except blocks to catch and handle exceptions in our code. This is the most basic and essential technique for handling exceptions.\n",
    "\n",
    "### Thread-Specific Exception Handling: \n",
    "In multithreaded programs we can use thread-specific exception handling mechanisms such as threading.\n",
    "\n",
    "### Process-Specific Exception Handling: \n",
    "In multiprocess programs we can use process-specific exception handling mechanisms, such as multiprocessing.\n",
    "\n",
    "### Centralized Exception Handling: \n",
    "Use a centralized exception handling mechanism such as a global exception handler to catch and handle exceptions across wer entire program.\n",
    "\n",
    "### Logging and Monitoring: \n",
    "Log and monitor exceptions to gain insights into what went wrong and to identify potential issues.\n",
    "\n",
    "### Error Codes and Messages: \n",
    "Use error codes and messages to provide meaningful information about exceptions and to help with debugging.\n",
    "\n",
    "### Retry Mechanisms: \n",
    "Implement retry mechanisms to handle transient exceptions such as network errors or database connection issues."
   ]
  },
  {
   "cell_type": "code",
   "execution_count": 9,
   "metadata": {},
   "outputs": [
    {
     "name": "stdout",
     "output_type": "stream",
     "text": [
      "This showing ZeroDivisionError:- division by zero\n"
     ]
    }
   ],
   "source": [
    "import threading\n",
    "\n",
    "def worker():\n",
    "    try:\n",
    "        x = 1 / 0\n",
    "    except ZeroDivisionError as e:\n",
    "        print(\"This showing ZeroDivisionError:-\",e)\n",
    "\n",
    "thread = threading.Thread(target=worker)\n",
    "thread.start()\n",
    "thread.join()"
   ]
  },
  {
   "cell_type": "markdown",
   "metadata": {},
   "source": [
    "# Question-7. Create a program that uses a thread pool to calculate the factorial of numbers from 1 to 10 concurrently. Use concurrent.futures.ThreadPoolExecutor to manage the threads."
   ]
  },
  {
   "cell_type": "code",
   "execution_count": 11,
   "metadata": {},
   "outputs": [
    {
     "name": "stdout",
     "output_type": "stream",
     "text": [
      "Factorial of 1 is 1\n",
      "Factorial of 2 is 2\n",
      "Factorial of 3 is 6\n",
      "Factorial of 4 is 24\n",
      "Factorial of 5 is 120\n",
      "Factorial of 6 is 720\n",
      "Factorial of 7 is 5040\n",
      "Factorial of 8 is 40320\n",
      "Factorial of 9 is 362880\n",
      "Factorial of 10 is 3628800\n"
     ]
    }
   ],
   "source": [
    "import concurrent.futures\n",
    "\n",
    "def calculate_factorial(n):\n",
    "    result = 1\n",
    "    for i in range(1, n + 1):\n",
    "        result *= i\n",
    "    print(f\"Factorial of {n} is {result}\")\n",
    "\n",
    "numbers = range(1, 11)\n",
    "\n",
    "with concurrent.futures.ThreadPoolExecutor(max_workers=5) as executor:\n",
    "    executor.map(calculate_factorial, numbers)"
   ]
  },
  {
   "cell_type": "markdown",
   "metadata": {},
   "source": [
    "# Question-8. Create a Python program that uses multiprocessing.Pool to compute the square of numbers from 1 to 10 in parallel. Measure the time taken to perform this computation using a pool of different sizes (e.g., 2, 4, 8 processes)."
   ]
  },
  {
   "cell_type": "code",
   "execution_count": null,
   "metadata": {},
   "outputs": [],
   "source": [
    "import multiprocessing\n",
    "import time\n",
    "start = time.perf_counter()\n",
    "\n",
    "def square(x):\n",
    "    return x * x\n",
    "\n",
    "numbers = range(1, 11)\n",
    "\n",
    "for num_processes in [2, 4, 8]:\n",
    "    with multiprocessing.Pool(processes=num_processes) as pool:\n",
    "        results = pool.map(square, numbers)\n",
    "        end = time.perf_counter()\n",
    "    print(f\"The Pool size is -: {num_processes},and the code execution time taken is-: {end - start} seconds\")\n",
    "    print(f\"The Results are: {results}\")\n"
   ]
  },
  {
   "cell_type": "code",
   "execution_count": null,
   "metadata": {},
   "outputs": [],
   "source": []
  }
 ],
 "metadata": {
  "kernelspec": {
   "display_name": "Python 3",
   "language": "python",
   "name": "python3"
  },
  "language_info": {
   "codemirror_mode": {
    "name": "ipython",
    "version": 3
   },
   "file_extension": ".py",
   "mimetype": "text/x-python",
   "name": "python",
   "nbconvert_exporter": "python",
   "pygments_lexer": "ipython3",
   "version": "3.12.4"
  }
 },
 "nbformat": 4,
 "nbformat_minor": 4
}
